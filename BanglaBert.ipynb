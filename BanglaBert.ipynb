{
  "cells": [
    {
      "cell_type": "markdown",
      "metadata": {
        "colab_type": "text",
        "id": "view-in-github"
      },
      "source": [
        "<a href=\"https://colab.research.google.com/github/coder7475/sentiment_analysis_bangla/blob/main/BanglaBert.ipynb\" target=\"_parent\"><img src=\"https://colab.research.google.com/assets/colab-badge.svg\" alt=\"Open In Colab\"/></a>"
      ]
    },
    {
      "cell_type": "markdown",
      "metadata": {
        "id": "wnieswcZEtER"
      },
      "source": [
        "## BanglaBert Training"
      ]
    },
    {
      "cell_type": "code",
      "execution_count": 1,
      "metadata": {
        "id": "-pTuCCOfEm3X"
      },
      "outputs": [],
      "source": [
        "import os\n",
        "import logging\n",
        "\n",
        "# Set up logging\n",
        "logging.basicConfig(level=logging.INFO, format='%(asctime)s - %(levelname)s - %(message)s')\n",
        "\n",
        "# Create output directory\n",
        "os.makedirs(\"models/baseline_models/banglabert_baseline\", exist_ok=True)\n",
        "logging.info(\"Output directory created: banglabert_baseline\")"
      ]
    },
    {
      "cell_type": "code",
      "execution_count": 2,
      "metadata": {
        "id": "09xJMCGNExs2"
      },
      "outputs": [],
      "source": [
        "# Define paths\n",
        "data_dir = \"text_representation/\"\n",
        "files = {\n",
        "    'input_ids': f\"{data_dir}bert_input_ids.npy\",\n",
        "    'attention_masks': f\"{data_dir}bert_attention_masks.npy\",\n",
        "    'labels_train': f\"{data_dir}labels_train.csv\",\n",
        "    'labels_val': f\"{data_dir}labels_val.csv\",\n",
        "    'split_indices': f\"{data_dir}split_indices.csv\"\n",
        "}"
      ]
    },
    {
      "cell_type": "code",
      "execution_count": 3,
      "metadata": {
        "colab": {
          "base_uri": "https://localhost:8080/"
        },
        "id": "zF1xRSxvE333",
        "outputId": "70155196-633c-4b76-ea7c-22f135ec3ed6"
      },
      "outputs": [
        {
          "data": {
            "text/plain": [
              "{'input_ids': 'text_representation/bert_input_ids.npy',\n",
              " 'attention_masks': 'text_representation/bert_attention_masks.npy',\n",
              " 'labels_train': 'text_representation/labels_train.csv',\n",
              " 'labels_val': 'text_representation/labels_val.csv',\n",
              " 'split_indices': 'text_representation/split_indices.csv'}"
            ]
          },
          "execution_count": 3,
          "metadata": {},
          "output_type": "execute_result"
        }
      ],
      "source": [
        "files"
      ]
    },
    {
      "cell_type": "code",
      "execution_count": 4,
      "metadata": {
        "colab": {
          "base_uri": "https://localhost:8080/"
        },
        "id": "i_2O-pIwE50p",
        "outputId": "689fa1e4-fb37-4e86-cde9-ffadab42e116"
      },
      "outputs": [
        {
          "name": "stdout",
          "output_type": "stream",
          "text": [
            "--2025-06-18 09:34:20--  https://github.com/coder7475/sentiment_analysis_bangla/raw/main/text_representation/bert_attention_masks.npy\n",
            "Resolving github.com (github.com)... 140.82.113.3\n",
            "Connecting to github.com (github.com)|140.82.113.3|:443... connected.\n",
            "HTTP request sent, awaiting response... 302 Found\n",
            "Location: https://raw.githubusercontent.com/coder7475/sentiment_analysis_bangla/main/text_representation/bert_attention_masks.npy [following]\n",
            "--2025-06-18 09:34:20--  https://raw.githubusercontent.com/coder7475/sentiment_analysis_bangla/main/text_representation/bert_attention_masks.npy\n",
            "Resolving raw.githubusercontent.com (raw.githubusercontent.com)... 185.199.108.133, 185.199.109.133, 185.199.110.133, ...\n",
            "Connecting to raw.githubusercontent.com (raw.githubusercontent.com)|185.199.108.133|:443... connected.\n",
            "HTTP request sent, awaiting response... 200 OK\n",
            "Length: 7928960 (7.6M) [application/octet-stream]\n",
            "Saving to: ‘text_representation/bert_attention_masks.npy’\n",
            "\n",
            "bert_attention_mask 100%[===================>]   7.56M  --.-KB/s    in 0.1s    \n",
            "\n",
            "2025-06-18 09:34:21 (79.1 MB/s) - ‘text_representation/bert_attention_masks.npy’ saved [7928960/7928960]\n",
            "\n",
            "--2025-06-18 09:34:21--  https://github.com/coder7475/sentiment_analysis_bangla/raw/main/text_representation/bert_input_ids.npy\n",
            "Resolving github.com (github.com)... 140.82.113.4\n",
            "Connecting to github.com (github.com)|140.82.113.4|:443... connected.\n",
            "HTTP request sent, awaiting response... 302 Found\n",
            "Location: https://raw.githubusercontent.com/coder7475/sentiment_analysis_bangla/main/text_representation/bert_input_ids.npy [following]\n",
            "--2025-06-18 09:34:21--  https://raw.githubusercontent.com/coder7475/sentiment_analysis_bangla/main/text_representation/bert_input_ids.npy\n",
            "Resolving raw.githubusercontent.com (raw.githubusercontent.com)... 185.199.108.133, 185.199.109.133, 185.199.110.133, ...\n",
            "Connecting to raw.githubusercontent.com (raw.githubusercontent.com)|185.199.108.133|:443... connected.\n",
            "HTTP request sent, awaiting response... 200 OK\n",
            "Length: 7928960 (7.6M) [application/octet-stream]\n",
            "Saving to: ‘text_representation/bert_input_ids.npy’\n",
            "\n",
            "bert_input_ids.npy  100%[===================>]   7.56M  --.-KB/s    in 0.08s   \n",
            "\n",
            "2025-06-18 09:34:22 (91.6 MB/s) - ‘text_representation/bert_input_ids.npy’ saved [7928960/7928960]\n",
            "\n",
            "--2025-06-18 09:34:22--  https://github.com/coder7475/sentiment_analysis_bangla/raw/main/text_representation/labels_train.csv\n",
            "Resolving github.com (github.com)... 140.82.113.3\n",
            "Connecting to github.com (github.com)|140.82.113.3|:443... connected.\n",
            "HTTP request sent, awaiting response... 302 Found\n",
            "Location: https://raw.githubusercontent.com/coder7475/sentiment_analysis_bangla/main/text_representation/labels_train.csv [following]\n",
            "--2025-06-18 09:34:22--  https://raw.githubusercontent.com/coder7475/sentiment_analysis_bangla/main/text_representation/labels_train.csv\n",
            "Resolving raw.githubusercontent.com (raw.githubusercontent.com)... 185.199.108.133, 185.199.109.133, 185.199.110.133, ...\n",
            "Connecting to raw.githubusercontent.com (raw.githubusercontent.com)|185.199.108.133|:443... connected.\n",
            "HTTP request sent, awaiting response... 200 OK\n",
            "Length: 12392 (12K) [text/plain]\n",
            "Saving to: ‘text_representation/labels_train.csv’\n",
            "\n",
            "labels_train.csv    100%[===================>]  12.10K  --.-KB/s    in 0s      \n",
            "\n",
            "2025-06-18 09:34:22 (92.6 MB/s) - ‘text_representation/labels_train.csv’ saved [12392/12392]\n",
            "\n",
            "--2025-06-18 09:34:22--  https://github.com/coder7475/sentiment_analysis_bangla/raw/main/text_representation/labels_val.csv\n",
            "Resolving github.com (github.com)... 140.82.113.3\n",
            "Connecting to github.com (github.com)|140.82.113.3|:443... connected.\n",
            "HTTP request sent, awaiting response... 302 Found\n",
            "Location: https://raw.githubusercontent.com/coder7475/sentiment_analysis_bangla/main/text_representation/labels_val.csv [following]\n",
            "--2025-06-18 09:34:23--  https://raw.githubusercontent.com/coder7475/sentiment_analysis_bangla/main/text_representation/labels_val.csv\n",
            "Resolving raw.githubusercontent.com (raw.githubusercontent.com)... 185.199.109.133, 185.199.110.133, 185.199.108.133, ...\n",
            "Connecting to raw.githubusercontent.com (raw.githubusercontent.com)|185.199.109.133|:443... connected.\n",
            "HTTP request sent, awaiting response... 200 OK\n",
            "Length: 1556 (1.5K) [text/plain]\n",
            "Saving to: ‘text_representation/labels_val.csv’\n",
            "\n",
            "labels_val.csv      100%[===================>]   1.52K  --.-KB/s    in 0s      \n",
            "\n",
            "2025-06-18 09:34:23 (31.0 MB/s) - ‘text_representation/labels_val.csv’ saved [1556/1556]\n",
            "\n",
            "--2025-06-18 09:34:23--  https://github.com/coder7475/sentiment_analysis_bangla/raw/main/text_representation/split_indices.csv\n",
            "Resolving github.com (github.com)... 140.82.113.4\n",
            "Connecting to github.com (github.com)|140.82.113.4|:443... connected.\n",
            "HTTP request sent, awaiting response... 302 Found\n",
            "Location: https://raw.githubusercontent.com/coder7475/sentiment_analysis_bangla/main/text_representation/split_indices.csv [following]\n",
            "--2025-06-18 09:34:23--  https://raw.githubusercontent.com/coder7475/sentiment_analysis_bangla/main/text_representation/split_indices.csv\n",
            "Resolving raw.githubusercontent.com (raw.githubusercontent.com)... 185.199.108.133, 185.199.109.133, 185.199.110.133, ...\n",
            "Connecting to raw.githubusercontent.com (raw.githubusercontent.com)|185.199.108.133|:443... connected.\n",
            "HTTP request sent, awaiting response... 200 OK\n",
            "Length: 81750 (80K) [text/plain]\n",
            "Saving to: ‘text_representation/split_indices.csv’\n",
            "\n",
            "split_indices.csv   100%[===================>]  79.83K  --.-KB/s    in 0.01s   \n",
            "\n",
            "2025-06-18 09:34:24 (6.15 MB/s) - ‘text_representation/split_indices.csv’ saved [81750/81750]\n",
            "\n"
          ]
        }
      ],
      "source": [
        "# prompt: dowload text_representation folder from here: https://github.com/coder7475/sentiment_analysis_bangla/tree/main/text_representation\n",
        "\n",
        "!wget https://github.com/coder7475/sentiment_analysis_bangla/raw/main/text_representation/bert_attention_masks.npy -P text_representation/\n",
        "!wget https://github.com/coder7475/sentiment_analysis_bangla/raw/main/text_representation/bert_input_ids.npy -P text_representation/\n",
        "!wget https://github.com/coder7475/sentiment_analysis_bangla/raw/main/text_representation/labels_train.csv -P text_representation/\n",
        "!wget https://github.com/coder7475/sentiment_analysis_bangla/raw/main/text_representation/labels_val.csv -P text_representation/\n",
        "!wget https://github.com/coder7475/sentiment_analysis_bangla/raw/main/text_representation/split_indices.csv -P text_representation/"
      ]
    },
    {
      "cell_type": "code",
      "execution_count": 5,
      "metadata": {
        "id": "UiugvPGWFnJn"
      },
      "outputs": [],
      "source": [
        "# Check file existence\n",
        "for name, path in files.items():\n",
        "    if not os.path.exists(path):\n",
        "        logging.error(f\"Missing file: {path}\")\n",
        "        raise FileNotFoundError(f\"Missing file: {path}\")\n"
      ]
    },
    {
      "cell_type": "code",
      "execution_count": 6,
      "metadata": {
        "id": "mxVjsJ_iFx4P"
      },
      "outputs": [],
      "source": [
        "import numpy as np\n",
        "import pandas as pd\n",
        "\n",
        "# Load data\n",
        "input_ids = np.load(files['input_ids'])\n",
        "attention_masks = np.load(files['attention_masks'])\n",
        "\n",
        "y_train = pd.read_csv(files['labels_train'], encoding='utf-8')['Label'].values\n",
        "y_val = pd.read_csv(files['labels_val'], encoding='utf-8')['Label'].values\n",
        "\n",
        "logging.info(\"Data loaded successfully\")"
      ]
    },
    {
      "cell_type": "code",
      "execution_count": 7,
      "metadata": {
        "id": "xJhh0hLUF0IV"
      },
      "outputs": [],
      "source": [
        "# Load Split indices\n",
        "split_df = pd.read_csv(files['split_indices'])\n",
        "train_idx = split_df[split_df['Split'] == 'Train']['Index'].values\n",
        "val_idx = split_df[split_df['Split'] == 'Val']['Index'].values"
      ]
    },
    {
      "cell_type": "code",
      "execution_count": 8,
      "metadata": {
        "colab": {
          "base_uri": "https://localhost:8080/"
        },
        "id": "0TD0zIA2F58s",
        "outputId": "5ae91376-afb2-49d0-dee9-db650deb6928"
      },
      "outputs": [
        {
          "data": {
            "text/plain": [
              "array([2384, 5908, 6026, ..., 1990, 7527, 7718])"
            ]
          },
          "execution_count": 8,
          "metadata": {},
          "output_type": "execute_result"
        }
      ],
      "source": [
        "train_idx"
      ]
    },
    {
      "cell_type": "code",
      "execution_count": 9,
      "metadata": {
        "id": "_8Z8gLf-F6vQ"
      },
      "outputs": [],
      "source": [
        "import torch\n",
        "\n",
        "# Create Custom PyTorch Dataset for sentiment analysis\n",
        "# that returns input_ids, attention_mask, and labels as tensors\n",
        "class SentimentDataset(torch.utils.data.Dataset):\n",
        "    # Constructor\n",
        "    def __init__(self, input_ids, attention_masks, labels):\n",
        "        self.input_ids = input_ids\n",
        "        self.attention_masks = attention_masks\n",
        "        self.labels = labels\n",
        "\n",
        "    # Methods\n",
        "    def __len__(self): return len(self.labels)  # length of labels - dataset\n",
        "\n",
        "    def __getitem__(self, idx):\n",
        "        return {\n",
        "            'input_ids': torch.tensor(self.input_ids[idx], dtype=torch.long),\n",
        "            'attention_mask': torch.tensor(self.attention_masks[idx], dtype=torch.long),\n",
        "            'labels': torch.tensor(self.labels[idx], dtype=torch.long)\n",
        "        }\n"
      ]
    },
    {
      "cell_type": "code",
      "execution_count": 10,
      "metadata": {
        "id": "spp21FO-F8Pt"
      },
      "outputs": [],
      "source": [
        "# Prepare datasets\n",
        "train_dataset = SentimentDataset(input_ids[train_idx], attention_masks[train_idx], y_train)\n",
        "val_dataset = SentimentDataset(input_ids[val_idx], attention_masks[val_idx], y_val)\n",
        "\n",
        "logging.info(\"Datasets prepared\")"
      ]
    },
    {
      "cell_type": "code",
      "execution_count": 11,
      "metadata": {
        "colab": {
          "base_uri": "https://localhost:8080/",
          "height": 247,
          "referenced_widgets": [
            "2e2b18f5340f43e9a14c7bec0b4d55d7",
            "3e03a1a9ff6146dc9beb13d7a508721f",
            "7d2a9a59f46b498191a342f63cd9d556",
            "aae948acd4f04376acea0227db02e674",
            "eac259bdf1624400ba96129b5b2cb33a",
            "ffb111e8c25e46219dd28ef89dc5d877",
            "d52c881019e742c7b11ba7ec0fc8490e",
            "b083cd96001245e3bf26f467c348ad10",
            "af41cee8bd6140bcbc9e08dfdfc16922",
            "65e7a3b3a823496d8395f036b2aa4ce5",
            "a6d3ec5da8994d658bc262fe6649297c",
            "93f16b4472004970bc2dbf9ef1eee318",
            "710a77d9a3714572b5b6db22827b9e17",
            "0f6ba8b037ae41ff892fb4465efc493b",
            "4b01b3eb5e5d40338bf5381187337598",
            "7c19e5fc944d4f6a86f693af97113938",
            "7cb398f09fcb49f28489bc75f5aa7e98",
            "3c99f1cb8b894fb79ea2b4621cb05f9d",
            "5a39dbfac8a94d33abf42885d0659fb7",
            "401b7fe03aba4348970e317f3fc04038",
            "d1e9847c2abc4eb5a1bcbdb945fd0625",
            "20f54d1c5a134e97af3107d13ee6ffb4"
          ]
        },
        "id": "AwNjwjzDF_2c",
        "outputId": "6b1fc3fd-547c-4138-b8c5-2c21722dbbe8"
      },
      "outputs": [
        {
          "name": "stderr",
          "output_type": "stream",
          "text": [
            "/usr/local/lib/python3.11/dist-packages/huggingface_hub/utils/_auth.py:94: UserWarning: \n",
            "The secret `HF_TOKEN` does not exist in your Colab secrets.\n",
            "To authenticate with the Hugging Face Hub, create a token in your settings tab (https://huggingface.co/settings/tokens), set it as secret in your Google Colab and restart your session.\n",
            "You will be able to reuse this secret in all of your notebooks.\n",
            "Please note that authentication is recommended but still optional to access public models or datasets.\n",
            "  warnings.warn(\n"
          ]
        },
        {
          "data": {
            "application/vnd.jupyter.widget-view+json": {
              "model_id": "2e2b18f5340f43e9a14c7bec0b4d55d7",
              "version_major": 2,
              "version_minor": 0
            },
            "text/plain": [
              "config.json:   0%|          | 0.00/491 [00:00<?, ?B/s]"
            ]
          },
          "metadata": {},
          "output_type": "display_data"
        },
        {
          "data": {
            "application/vnd.jupyter.widget-view+json": {
              "model_id": "93f16b4472004970bc2dbf9ef1eee318",
              "version_major": 2,
              "version_minor": 0
            },
            "text/plain": [
              "model.safetensors:   0%|          | 0.00/660M [00:00<?, ?B/s]"
            ]
          },
          "metadata": {},
          "output_type": "display_data"
        },
        {
          "name": "stderr",
          "output_type": "stream",
          "text": [
            "Some weights of BertForSequenceClassification were not initialized from the model checkpoint at sagorsarker/bangla-bert-base and are newly initialized: ['classifier.bias', 'classifier.weight']\n",
            "You should probably TRAIN this model on a down-stream task to be able to use it for predictions and inference.\n"
          ]
        }
      ],
      "source": [
        "from transformers import AutoModelForSequenceClassification, AutoTokenizer, Trainer, TrainingArguments\n",
        "\n",
        "# Initialize model\n",
        "model = AutoModelForSequenceClassification.from_pretrained(\n",
        "        \"sagorsarker/bangla-bert-base\", num_labels=3\n",
        "    )\n",
        "\n",
        "logging.info(\"BanglaBERT model initialized\")"
      ]
    },
    {
      "cell_type": "code",
      "execution_count": 15,
      "metadata": {
        "id": "9klfMNDLG8bP"
      },
      "outputs": [],
      "source": [
        "from sklearn.metrics import precision_recall_fscore_support\n",
        "\n",
        "# Metrics computer\n",
        "def compute_metrics(pred):\n",
        "    labels = pred.label_ids\n",
        "    preds = pred.predictions.argmax(-1)\n",
        "    precision, recall, f1, _ = precision_recall_fscore_support(labels, preds, average='weighted')\n",
        "    return {'f1': f1}"
      ]
    },
    {
      "cell_type": "code",
      "execution_count": 21,
      "metadata": {
        "id": "9BTTInzKGA-P"
      },
      "outputs": [],
      "source": [
        "# Training arguments\n",
        "training_args = TrainingArguments(\n",
        "        output_dir=\"./banglabert_results\",\n",
        "        num_train_epochs=10,  # Increased to find optimal epochs\n",
        "        per_device_train_batch_size=16,\n",
        "        per_device_eval_batch_size=16,\n",
        "        learning_rate=2e-5,\n",
        "        eval_strategy=\"epoch\",\n",
        "        save_strategy=\"epoch\",\n",
        "        save_total_limit=3,  # Keep only last 3 checkpoints\n",
        "        load_best_model_at_end=True,\n",
        "        metric_for_best_model=\"f1\",\n",
        "        greater_is_better=True,\n",
        "        save_on_each_node=True,\n",
        "        logging_strategy=\"epoch\",\n",
        "    )"
      ]
    },
    {
      "cell_type": "code",
      "execution_count": 22,
      "metadata": {
        "colab": {
          "base_uri": "https://localhost:8080/",
          "height": 389
        },
        "id": "eVY5CNhPGLK7",
        "outputId": "c8f4c07f-b61f-4faf-d9aa-ce4477c8c818"
      },
      "outputs": [
        {
          "data": {
            "text/html": [
              "\n",
              "    <div>\n",
              "      \n",
              "      <progress value='3880' max='3880' style='width:300px; height:20px; vertical-align: middle;'></progress>\n",
              "      [3880/3880 17:47, Epoch 10/10]\n",
              "    </div>\n",
              "    <table border=\"1\" class=\"dataframe\">\n",
              "  <thead>\n",
              " <tr style=\"text-align: left;\">\n",
              "      <th>Epoch</th>\n",
              "      <th>Training Loss</th>\n",
              "      <th>Validation Loss</th>\n",
              "      <th>F1</th>\n",
              "    </tr>\n",
              "  </thead>\n",
              "  <tbody>\n",
              "    <tr>\n",
              "      <td>1</td>\n",
              "      <td>0.213300</td>\n",
              "      <td>1.831763</td>\n",
              "      <td>0.568034</td>\n",
              "    </tr>\n",
              "    <tr>\n",
              "      <td>2</td>\n",
              "      <td>0.388100</td>\n",
              "      <td>1.307234</td>\n",
              "      <td>0.585798</td>\n",
              "    </tr>\n",
              "    <tr>\n",
              "      <td>3</td>\n",
              "      <td>0.295300</td>\n",
              "      <td>1.649559</td>\n",
              "      <td>0.551225</td>\n",
              "    </tr>\n",
              "    <tr>\n",
              "      <td>4</td>\n",
              "      <td>0.216600</td>\n",
              "      <td>1.857975</td>\n",
              "      <td>0.568547</td>\n",
              "    </tr>\n",
              "    <tr>\n",
              "      <td>5</td>\n",
              "      <td>0.174800</td>\n",
              "      <td>2.114043</td>\n",
              "      <td>0.589016</td>\n",
              "    </tr>\n",
              "    <tr>\n",
              "      <td>6</td>\n",
              "      <td>0.148600</td>\n",
              "      <td>2.402265</td>\n",
              "      <td>0.567921</td>\n",
              "    </tr>\n",
              "    <tr>\n",
              "      <td>7</td>\n",
              "      <td>0.122400</td>\n",
              "      <td>2.544892</td>\n",
              "      <td>0.567182</td>\n",
              "    </tr>\n",
              "    <tr>\n",
              "      <td>8</td>\n",
              "      <td>0.104400</td>\n",
              "      <td>2.690192</td>\n",
              "      <td>0.577315</td>\n",
              "    </tr>\n",
              "    <tr>\n",
              "      <td>9</td>\n",
              "      <td>0.083700</td>\n",
              "      <td>2.744723</td>\n",
              "      <td>0.569236</td>\n",
              "    </tr>\n",
              "    <tr>\n",
              "      <td>10</td>\n",
              "      <td>0.070600</td>\n",
              "      <td>2.819317</td>\n",
              "      <td>0.575391</td>\n",
              "    </tr>\n",
              "  </tbody>\n",
              "</table><p>"
            ],
            "text/plain": [
              "<IPython.core.display.HTML object>"
            ]
          },
          "metadata": {},
          "output_type": "display_data"
        }
      ],
      "source": [
        "trainer = Trainer(\n",
        "    model=model,\n",
        "    args=training_args,\n",
        "    train_dataset=train_dataset,\n",
        "    eval_dataset=val_dataset,\n",
        "    compute_metrics=compute_metrics\n",
        ")\n",
        "\n",
        "trainer.train()\n",
        "logging.info(\"BanglaBERT training completed\")"
      ]
    },
    {
      "cell_type": "code",
      "execution_count": 24,
      "metadata": {
        "id": "zhU3JflvG9xl"
      },
      "outputs": [],
      "source": [
        "trainer.save_model(\"/content/drive/MyDrive/models/baseline_models/banglabert_baseline\")\n",
        "logging.info(\"BanglaBERT model saved: models/baseline_models/banglabert_baseline\")"
      ]
    },
    {
      "cell_type": "code",
      "execution_count": null,
      "metadata": {
        "id": "UZrIGVpUgovq"
      },
      "outputs": [],
      "source": []
    }
  ],
  "metadata": {
    "accelerator": "GPU",
    "colab": {
      "authorship_tag": "ABX9TyMELsMYGrwTZUo7HlXOcHE5",
      "gpuType": "T4",
      "include_colab_link": true,
      "mount_file_id": "1w1X0-v6GLXdcY6AkcRVlA-2QweOen67h",
      "provenance": []
    },
    "kernelspec": {
      "display_name": "Python 3",
      "name": "python3"
    },
    "language_info": {
      "name": "python"
    },
    "widgets": {
      "application/vnd.jupyter.widget-state+json": {
        "0f6ba8b037ae41ff892fb4465efc493b": {
          "model_module": "@jupyter-widgets/controls",
          "model_module_version": "1.5.0",
          "model_name": "FloatProgressModel",
          "state": {
            "_dom_classes": [],
            "_model_module": "@jupyter-widgets/controls",
            "_model_module_version": "1.5.0",
            "_model_name": "FloatProgressModel",
            "_view_count": null,
            "_view_module": "@jupyter-widgets/controls",
            "_view_module_version": "1.5.0",
            "_view_name": "ProgressView",
            "bar_style": "success",
            "description": "",
            "description_tooltip": null,
            "layout": "IPY_MODEL_5a39dbfac8a94d33abf42885d0659fb7",
            "max": 660393036,
            "min": 0,
            "orientation": "horizontal",
            "style": "IPY_MODEL_401b7fe03aba4348970e317f3fc04038",
            "value": 660393036
          }
        },
        "20f54d1c5a134e97af3107d13ee6ffb4": {
          "model_module": "@jupyter-widgets/controls",
          "model_module_version": "1.5.0",
          "model_name": "DescriptionStyleModel",
          "state": {
            "_model_module": "@jupyter-widgets/controls",
            "_model_module_version": "1.5.0",
            "_model_name": "DescriptionStyleModel",
            "_view_count": null,
            "_view_module": "@jupyter-widgets/base",
            "_view_module_version": "1.2.0",
            "_view_name": "StyleView",
            "description_width": ""
          }
        },
        "2e2b18f5340f43e9a14c7bec0b4d55d7": {
          "model_module": "@jupyter-widgets/controls",
          "model_module_version": "1.5.0",
          "model_name": "HBoxModel",
          "state": {
            "_dom_classes": [],
            "_model_module": "@jupyter-widgets/controls",
            "_model_module_version": "1.5.0",
            "_model_name": "HBoxModel",
            "_view_count": null,
            "_view_module": "@jupyter-widgets/controls",
            "_view_module_version": "1.5.0",
            "_view_name": "HBoxView",
            "box_style": "",
            "children": [
              "IPY_MODEL_3e03a1a9ff6146dc9beb13d7a508721f",
              "IPY_MODEL_7d2a9a59f46b498191a342f63cd9d556",
              "IPY_MODEL_aae948acd4f04376acea0227db02e674"
            ],
            "layout": "IPY_MODEL_eac259bdf1624400ba96129b5b2cb33a"
          }
        },
        "3c99f1cb8b894fb79ea2b4621cb05f9d": {
          "model_module": "@jupyter-widgets/controls",
          "model_module_version": "1.5.0",
          "model_name": "DescriptionStyleModel",
          "state": {
            "_model_module": "@jupyter-widgets/controls",
            "_model_module_version": "1.5.0",
            "_model_name": "DescriptionStyleModel",
            "_view_count": null,
            "_view_module": "@jupyter-widgets/base",
            "_view_module_version": "1.2.0",
            "_view_name": "StyleView",
            "description_width": ""
          }
        },
        "3e03a1a9ff6146dc9beb13d7a508721f": {
          "model_module": "@jupyter-widgets/controls",
          "model_module_version": "1.5.0",
          "model_name": "HTMLModel",
          "state": {
            "_dom_classes": [],
            "_model_module": "@jupyter-widgets/controls",
            "_model_module_version": "1.5.0",
            "_model_name": "HTMLModel",
            "_view_count": null,
            "_view_module": "@jupyter-widgets/controls",
            "_view_module_version": "1.5.0",
            "_view_name": "HTMLView",
            "description": "",
            "description_tooltip": null,
            "layout": "IPY_MODEL_ffb111e8c25e46219dd28ef89dc5d877",
            "placeholder": "​",
            "style": "IPY_MODEL_d52c881019e742c7b11ba7ec0fc8490e",
            "value": "config.json: 100%"
          }
        },
        "401b7fe03aba4348970e317f3fc04038": {
          "model_module": "@jupyter-widgets/controls",
          "model_module_version": "1.5.0",
          "model_name": "ProgressStyleModel",
          "state": {
            "_model_module": "@jupyter-widgets/controls",
            "_model_module_version": "1.5.0",
            "_model_name": "ProgressStyleModel",
            "_view_count": null,
            "_view_module": "@jupyter-widgets/base",
            "_view_module_version": "1.2.0",
            "_view_name": "StyleView",
            "bar_color": null,
            "description_width": ""
          }
        },
        "4b01b3eb5e5d40338bf5381187337598": {
          "model_module": "@jupyter-widgets/controls",
          "model_module_version": "1.5.0",
          "model_name": "HTMLModel",
          "state": {
            "_dom_classes": [],
            "_model_module": "@jupyter-widgets/controls",
            "_model_module_version": "1.5.0",
            "_model_name": "HTMLModel",
            "_view_count": null,
            "_view_module": "@jupyter-widgets/controls",
            "_view_module_version": "1.5.0",
            "_view_name": "HTMLView",
            "description": "",
            "description_tooltip": null,
            "layout": "IPY_MODEL_d1e9847c2abc4eb5a1bcbdb945fd0625",
            "placeholder": "​",
            "style": "IPY_MODEL_20f54d1c5a134e97af3107d13ee6ffb4",
            "value": " 660M/660M [00:02&lt;00:00, 254MB/s]"
          }
        },
        "5a39dbfac8a94d33abf42885d0659fb7": {
          "model_module": "@jupyter-widgets/base",
          "model_module_version": "1.2.0",
          "model_name": "LayoutModel",
          "state": {
            "_model_module": "@jupyter-widgets/base",
            "_model_module_version": "1.2.0",
            "_model_name": "LayoutModel",
            "_view_count": null,
            "_view_module": "@jupyter-widgets/base",
            "_view_module_version": "1.2.0",
            "_view_name": "LayoutView",
            "align_content": null,
            "align_items": null,
            "align_self": null,
            "border": null,
            "bottom": null,
            "display": null,
            "flex": null,
            "flex_flow": null,
            "grid_area": null,
            "grid_auto_columns": null,
            "grid_auto_flow": null,
            "grid_auto_rows": null,
            "grid_column": null,
            "grid_gap": null,
            "grid_row": null,
            "grid_template_areas": null,
            "grid_template_columns": null,
            "grid_template_rows": null,
            "height": null,
            "justify_content": null,
            "justify_items": null,
            "left": null,
            "margin": null,
            "max_height": null,
            "max_width": null,
            "min_height": null,
            "min_width": null,
            "object_fit": null,
            "object_position": null,
            "order": null,
            "overflow": null,
            "overflow_x": null,
            "overflow_y": null,
            "padding": null,
            "right": null,
            "top": null,
            "visibility": null,
            "width": null
          }
        },
        "65e7a3b3a823496d8395f036b2aa4ce5": {
          "model_module": "@jupyter-widgets/base",
          "model_module_version": "1.2.0",
          "model_name": "LayoutModel",
          "state": {
            "_model_module": "@jupyter-widgets/base",
            "_model_module_version": "1.2.0",
            "_model_name": "LayoutModel",
            "_view_count": null,
            "_view_module": "@jupyter-widgets/base",
            "_view_module_version": "1.2.0",
            "_view_name": "LayoutView",
            "align_content": null,
            "align_items": null,
            "align_self": null,
            "border": null,
            "bottom": null,
            "display": null,
            "flex": null,
            "flex_flow": null,
            "grid_area": null,
            "grid_auto_columns": null,
            "grid_auto_flow": null,
            "grid_auto_rows": null,
            "grid_column": null,
            "grid_gap": null,
            "grid_row": null,
            "grid_template_areas": null,
            "grid_template_columns": null,
            "grid_template_rows": null,
            "height": null,
            "justify_content": null,
            "justify_items": null,
            "left": null,
            "margin": null,
            "max_height": null,
            "max_width": null,
            "min_height": null,
            "min_width": null,
            "object_fit": null,
            "object_position": null,
            "order": null,
            "overflow": null,
            "overflow_x": null,
            "overflow_y": null,
            "padding": null,
            "right": null,
            "top": null,
            "visibility": null,
            "width": null
          }
        },
        "710a77d9a3714572b5b6db22827b9e17": {
          "model_module": "@jupyter-widgets/controls",
          "model_module_version": "1.5.0",
          "model_name": "HTMLModel",
          "state": {
            "_dom_classes": [],
            "_model_module": "@jupyter-widgets/controls",
            "_model_module_version": "1.5.0",
            "_model_name": "HTMLModel",
            "_view_count": null,
            "_view_module": "@jupyter-widgets/controls",
            "_view_module_version": "1.5.0",
            "_view_name": "HTMLView",
            "description": "",
            "description_tooltip": null,
            "layout": "IPY_MODEL_7cb398f09fcb49f28489bc75f5aa7e98",
            "placeholder": "​",
            "style": "IPY_MODEL_3c99f1cb8b894fb79ea2b4621cb05f9d",
            "value": "model.safetensors: 100%"
          }
        },
        "7c19e5fc944d4f6a86f693af97113938": {
          "model_module": "@jupyter-widgets/base",
          "model_module_version": "1.2.0",
          "model_name": "LayoutModel",
          "state": {
            "_model_module": "@jupyter-widgets/base",
            "_model_module_version": "1.2.0",
            "_model_name": "LayoutModel",
            "_view_count": null,
            "_view_module": "@jupyter-widgets/base",
            "_view_module_version": "1.2.0",
            "_view_name": "LayoutView",
            "align_content": null,
            "align_items": null,
            "align_self": null,
            "border": null,
            "bottom": null,
            "display": null,
            "flex": null,
            "flex_flow": null,
            "grid_area": null,
            "grid_auto_columns": null,
            "grid_auto_flow": null,
            "grid_auto_rows": null,
            "grid_column": null,
            "grid_gap": null,
            "grid_row": null,
            "grid_template_areas": null,
            "grid_template_columns": null,
            "grid_template_rows": null,
            "height": null,
            "justify_content": null,
            "justify_items": null,
            "left": null,
            "margin": null,
            "max_height": null,
            "max_width": null,
            "min_height": null,
            "min_width": null,
            "object_fit": null,
            "object_position": null,
            "order": null,
            "overflow": null,
            "overflow_x": null,
            "overflow_y": null,
            "padding": null,
            "right": null,
            "top": null,
            "visibility": null,
            "width": null
          }
        },
        "7cb398f09fcb49f28489bc75f5aa7e98": {
          "model_module": "@jupyter-widgets/base",
          "model_module_version": "1.2.0",
          "model_name": "LayoutModel",
          "state": {
            "_model_module": "@jupyter-widgets/base",
            "_model_module_version": "1.2.0",
            "_model_name": "LayoutModel",
            "_view_count": null,
            "_view_module": "@jupyter-widgets/base",
            "_view_module_version": "1.2.0",
            "_view_name": "LayoutView",
            "align_content": null,
            "align_items": null,
            "align_self": null,
            "border": null,
            "bottom": null,
            "display": null,
            "flex": null,
            "flex_flow": null,
            "grid_area": null,
            "grid_auto_columns": null,
            "grid_auto_flow": null,
            "grid_auto_rows": null,
            "grid_column": null,
            "grid_gap": null,
            "grid_row": null,
            "grid_template_areas": null,
            "grid_template_columns": null,
            "grid_template_rows": null,
            "height": null,
            "justify_content": null,
            "justify_items": null,
            "left": null,
            "margin": null,
            "max_height": null,
            "max_width": null,
            "min_height": null,
            "min_width": null,
            "object_fit": null,
            "object_position": null,
            "order": null,
            "overflow": null,
            "overflow_x": null,
            "overflow_y": null,
            "padding": null,
            "right": null,
            "top": null,
            "visibility": null,
            "width": null
          }
        },
        "7d2a9a59f46b498191a342f63cd9d556": {
          "model_module": "@jupyter-widgets/controls",
          "model_module_version": "1.5.0",
          "model_name": "FloatProgressModel",
          "state": {
            "_dom_classes": [],
            "_model_module": "@jupyter-widgets/controls",
            "_model_module_version": "1.5.0",
            "_model_name": "FloatProgressModel",
            "_view_count": null,
            "_view_module": "@jupyter-widgets/controls",
            "_view_module_version": "1.5.0",
            "_view_name": "ProgressView",
            "bar_style": "success",
            "description": "",
            "description_tooltip": null,
            "layout": "IPY_MODEL_b083cd96001245e3bf26f467c348ad10",
            "max": 491,
            "min": 0,
            "orientation": "horizontal",
            "style": "IPY_MODEL_af41cee8bd6140bcbc9e08dfdfc16922",
            "value": 491
          }
        },
        "93f16b4472004970bc2dbf9ef1eee318": {
          "model_module": "@jupyter-widgets/controls",
          "model_module_version": "1.5.0",
          "model_name": "HBoxModel",
          "state": {
            "_dom_classes": [],
            "_model_module": "@jupyter-widgets/controls",
            "_model_module_version": "1.5.0",
            "_model_name": "HBoxModel",
            "_view_count": null,
            "_view_module": "@jupyter-widgets/controls",
            "_view_module_version": "1.5.0",
            "_view_name": "HBoxView",
            "box_style": "",
            "children": [
              "IPY_MODEL_710a77d9a3714572b5b6db22827b9e17",
              "IPY_MODEL_0f6ba8b037ae41ff892fb4465efc493b",
              "IPY_MODEL_4b01b3eb5e5d40338bf5381187337598"
            ],
            "layout": "IPY_MODEL_7c19e5fc944d4f6a86f693af97113938"
          }
        },
        "a6d3ec5da8994d658bc262fe6649297c": {
          "model_module": "@jupyter-widgets/controls",
          "model_module_version": "1.5.0",
          "model_name": "DescriptionStyleModel",
          "state": {
            "_model_module": "@jupyter-widgets/controls",
            "_model_module_version": "1.5.0",
            "_model_name": "DescriptionStyleModel",
            "_view_count": null,
            "_view_module": "@jupyter-widgets/base",
            "_view_module_version": "1.2.0",
            "_view_name": "StyleView",
            "description_width": ""
          }
        },
        "aae948acd4f04376acea0227db02e674": {
          "model_module": "@jupyter-widgets/controls",
          "model_module_version": "1.5.0",
          "model_name": "HTMLModel",
          "state": {
            "_dom_classes": [],
            "_model_module": "@jupyter-widgets/controls",
            "_model_module_version": "1.5.0",
            "_model_name": "HTMLModel",
            "_view_count": null,
            "_view_module": "@jupyter-widgets/controls",
            "_view_module_version": "1.5.0",
            "_view_name": "HTMLView",
            "description": "",
            "description_tooltip": null,
            "layout": "IPY_MODEL_65e7a3b3a823496d8395f036b2aa4ce5",
            "placeholder": "​",
            "style": "IPY_MODEL_a6d3ec5da8994d658bc262fe6649297c",
            "value": " 491/491 [00:00&lt;00:00, 51.8kB/s]"
          }
        },
        "af41cee8bd6140bcbc9e08dfdfc16922": {
          "model_module": "@jupyter-widgets/controls",
          "model_module_version": "1.5.0",
          "model_name": "ProgressStyleModel",
          "state": {
            "_model_module": "@jupyter-widgets/controls",
            "_model_module_version": "1.5.0",
            "_model_name": "ProgressStyleModel",
            "_view_count": null,
            "_view_module": "@jupyter-widgets/base",
            "_view_module_version": "1.2.0",
            "_view_name": "StyleView",
            "bar_color": null,
            "description_width": ""
          }
        },
        "b083cd96001245e3bf26f467c348ad10": {
          "model_module": "@jupyter-widgets/base",
          "model_module_version": "1.2.0",
          "model_name": "LayoutModel",
          "state": {
            "_model_module": "@jupyter-widgets/base",
            "_model_module_version": "1.2.0",
            "_model_name": "LayoutModel",
            "_view_count": null,
            "_view_module": "@jupyter-widgets/base",
            "_view_module_version": "1.2.0",
            "_view_name": "LayoutView",
            "align_content": null,
            "align_items": null,
            "align_self": null,
            "border": null,
            "bottom": null,
            "display": null,
            "flex": null,
            "flex_flow": null,
            "grid_area": null,
            "grid_auto_columns": null,
            "grid_auto_flow": null,
            "grid_auto_rows": null,
            "grid_column": null,
            "grid_gap": null,
            "grid_row": null,
            "grid_template_areas": null,
            "grid_template_columns": null,
            "grid_template_rows": null,
            "height": null,
            "justify_content": null,
            "justify_items": null,
            "left": null,
            "margin": null,
            "max_height": null,
            "max_width": null,
            "min_height": null,
            "min_width": null,
            "object_fit": null,
            "object_position": null,
            "order": null,
            "overflow": null,
            "overflow_x": null,
            "overflow_y": null,
            "padding": null,
            "right": null,
            "top": null,
            "visibility": null,
            "width": null
          }
        },
        "d1e9847c2abc4eb5a1bcbdb945fd0625": {
          "model_module": "@jupyter-widgets/base",
          "model_module_version": "1.2.0",
          "model_name": "LayoutModel",
          "state": {
            "_model_module": "@jupyter-widgets/base",
            "_model_module_version": "1.2.0",
            "_model_name": "LayoutModel",
            "_view_count": null,
            "_view_module": "@jupyter-widgets/base",
            "_view_module_version": "1.2.0",
            "_view_name": "LayoutView",
            "align_content": null,
            "align_items": null,
            "align_self": null,
            "border": null,
            "bottom": null,
            "display": null,
            "flex": null,
            "flex_flow": null,
            "grid_area": null,
            "grid_auto_columns": null,
            "grid_auto_flow": null,
            "grid_auto_rows": null,
            "grid_column": null,
            "grid_gap": null,
            "grid_row": null,
            "grid_template_areas": null,
            "grid_template_columns": null,
            "grid_template_rows": null,
            "height": null,
            "justify_content": null,
            "justify_items": null,
            "left": null,
            "margin": null,
            "max_height": null,
            "max_width": null,
            "min_height": null,
            "min_width": null,
            "object_fit": null,
            "object_position": null,
            "order": null,
            "overflow": null,
            "overflow_x": null,
            "overflow_y": null,
            "padding": null,
            "right": null,
            "top": null,
            "visibility": null,
            "width": null
          }
        },
        "d52c881019e742c7b11ba7ec0fc8490e": {
          "model_module": "@jupyter-widgets/controls",
          "model_module_version": "1.5.0",
          "model_name": "DescriptionStyleModel",
          "state": {
            "_model_module": "@jupyter-widgets/controls",
            "_model_module_version": "1.5.0",
            "_model_name": "DescriptionStyleModel",
            "_view_count": null,
            "_view_module": "@jupyter-widgets/base",
            "_view_module_version": "1.2.0",
            "_view_name": "StyleView",
            "description_width": ""
          }
        },
        "eac259bdf1624400ba96129b5b2cb33a": {
          "model_module": "@jupyter-widgets/base",
          "model_module_version": "1.2.0",
          "model_name": "LayoutModel",
          "state": {
            "_model_module": "@jupyter-widgets/base",
            "_model_module_version": "1.2.0",
            "_model_name": "LayoutModel",
            "_view_count": null,
            "_view_module": "@jupyter-widgets/base",
            "_view_module_version": "1.2.0",
            "_view_name": "LayoutView",
            "align_content": null,
            "align_items": null,
            "align_self": null,
            "border": null,
            "bottom": null,
            "display": null,
            "flex": null,
            "flex_flow": null,
            "grid_area": null,
            "grid_auto_columns": null,
            "grid_auto_flow": null,
            "grid_auto_rows": null,
            "grid_column": null,
            "grid_gap": null,
            "grid_row": null,
            "grid_template_areas": null,
            "grid_template_columns": null,
            "grid_template_rows": null,
            "height": null,
            "justify_content": null,
            "justify_items": null,
            "left": null,
            "margin": null,
            "max_height": null,
            "max_width": null,
            "min_height": null,
            "min_width": null,
            "object_fit": null,
            "object_position": null,
            "order": null,
            "overflow": null,
            "overflow_x": null,
            "overflow_y": null,
            "padding": null,
            "right": null,
            "top": null,
            "visibility": null,
            "width": null
          }
        },
        "ffb111e8c25e46219dd28ef89dc5d877": {
          "model_module": "@jupyter-widgets/base",
          "model_module_version": "1.2.0",
          "model_name": "LayoutModel",
          "state": {
            "_model_module": "@jupyter-widgets/base",
            "_model_module_version": "1.2.0",
            "_model_name": "LayoutModel",
            "_view_count": null,
            "_view_module": "@jupyter-widgets/base",
            "_view_module_version": "1.2.0",
            "_view_name": "LayoutView",
            "align_content": null,
            "align_items": null,
            "align_self": null,
            "border": null,
            "bottom": null,
            "display": null,
            "flex": null,
            "flex_flow": null,
            "grid_area": null,
            "grid_auto_columns": null,
            "grid_auto_flow": null,
            "grid_auto_rows": null,
            "grid_column": null,
            "grid_gap": null,
            "grid_row": null,
            "grid_template_areas": null,
            "grid_template_columns": null,
            "grid_template_rows": null,
            "height": null,
            "justify_content": null,
            "justify_items": null,
            "left": null,
            "margin": null,
            "max_height": null,
            "max_width": null,
            "min_height": null,
            "min_width": null,
            "object_fit": null,
            "object_position": null,
            "order": null,
            "overflow": null,
            "overflow_x": null,
            "overflow_y": null,
            "padding": null,
            "right": null,
            "top": null,
            "visibility": null,
            "width": null
          }
        }
      }
    }
  },
  "nbformat": 4,
  "nbformat_minor": 0
}
