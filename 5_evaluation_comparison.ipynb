{
 "cells": [
  {
   "cell_type": "markdown",
   "metadata": {},
   "source": [
    "# Phase 5: Evaluation and Comparison\n",
    "\n",
    "**Objective**: Compare baseline models (Phase 3) and mitigated models (Phase 4) to assess the effectiveness of imbalance mitigation strategies (SMOTE, Random Undersampling, NearMiss, Weighted Loss) for 3-class (Negative, Neutral, Positive) sentiment classification on the Bangla Sentiment Dataset. Evaluate performance on the test set, analyze source-specific performance (newspapers, social media, blogs) to test hypothesis H3 (source-specific differences in sentiment classification), and perform statistical tests to determine significant improvements.\n"
   ]
  },
  {
   "cell_type": "markdown",
   "metadata": {},
   "source": [
    "### Step 1: Load Test Data and Models\n",
    "\n",
    "- **Objective**: Load test TF-IDF matrix, labels, source metadata, and all models (baseline and mitigated)"
   ]
  },
  {
   "cell_type": "code",
   "execution_count": 3,
   "metadata": {},
   "outputs": [
    {
     "name": "stderr",
     "output_type": "stream",
     "text": [
      "2025-06-25 10:56:14,740 - INFO - Test data loaded successfully\n",
      "2025-06-25 10:56:14,742 - INFO - Data shapes validated\n"
     ]
    }
   ],
   "source": [
    "import pandas as pd\n",
    "import scipy.sparse as sp\n",
    "import joblib\n",
    "import os\n",
    "import logging\n",
    "from tqdm import tqdm\n",
    "\n",
    "# Set up logging\n",
    "logging.basicConfig(level=logging.INFO, format='%(asctime)s - %(levelname)s - %(message)s')\n",
    "\n",
    "# Define paths\n",
    "data_dir = \"text_representation/\"\n",
    "\n",
    "files = {\n",
    "    'tfidf_test': f\"{data_dir}tfidf_test.npz\",\n",
    "    'labels_test': f\"{data_dir}labels_test.csv\",\n",
    "}\n",
    "\n",
    "# Check file existence\n",
    "for name, path in files.items():\n",
    "    if not os.path.exists(path):\n",
    "        logging.error(f\"Missing file: {path}\")\n",
    "        raise FileNotFoundError(f\"Missing file: {path}\")\n",
    "\n",
    "# Load test data\n",
    "tfidf_test = sp.load_npz(files['tfidf_test'])\n",
    "y_test = pd.read_csv(files['labels_test'], encoding='utf-8')['Label'].values\n",
    "\n",
    "logging.info(\"Test data loaded successfully\")\n",
    "\n",
    "# Validate shapes\n",
    "assert tfidf_test.shape[0] == len(y_test), \"Test data mismatch\"\n",
    "logging.info(\"Data shapes validated\")"
   ]
  },
  {
   "cell_type": "code",
   "execution_count": 4,
   "metadata": {},
   "outputs": [
    {
     "name": "stderr",
     "output_type": "stream",
     "text": [
      "Loading baseline models:   0%|          | 0/4 [00:00<?, ?it/s]/home/fahad/projects/personal/sentiment_analysis_bangla/venv/lib/python3.11/site-packages/sklearn/base.py:380: InconsistentVersionWarning: Trying to unpickle estimator LogisticRegression from version 1.7.0 when using version 1.6.1. This might lead to breaking code or invalid results. Use at your own risk. For more info please refer to:\n",
      "https://scikit-learn.org/stable/model_persistence.html#security-maintainability-limitations\n",
      "  warnings.warn(\n",
      "2025-06-25 10:58:40,317 - INFO - Loaded model: baseline_LogisticRegression_tuned_grid\n",
      "Loading baseline models:  25%|██▌       | 1/4 [00:01<00:05,  1.78s/it]/home/fahad/projects/personal/sentiment_analysis_bangla/venv/lib/python3.11/site-packages/sklearn/base.py:380: InconsistentVersionWarning: Trying to unpickle estimator SVC from version 1.7.0 when using version 1.6.1. This might lead to breaking code or invalid results. Use at your own risk. For more info please refer to:\n",
      "https://scikit-learn.org/stable/model_persistence.html#security-maintainability-limitations\n",
      "  warnings.warn(\n",
      "2025-06-25 10:58:40,338 - INFO - Loaded model: baseline_SVM_tuned_grid\n",
      "/home/fahad/projects/personal/sentiment_analysis_bangla/venv/lib/python3.11/site-packages/sklearn/base.py:380: InconsistentVersionWarning: Trying to unpickle estimator MultinomialNB from version 1.7.0 when using version 1.6.1. This might lead to breaking code or invalid results. Use at your own risk. For more info please refer to:\n",
      "https://scikit-learn.org/stable/model_persistence.html#security-maintainability-limitations\n",
      "  warnings.warn(\n",
      "2025-06-25 10:58:40,352 - INFO - Loaded model: baseline_NaiveBayes_tuned_grid\n",
      "/home/fahad/projects/personal/sentiment_analysis_bangla/venv/lib/python3.11/site-packages/sklearn/base.py:380: InconsistentVersionWarning: Trying to unpickle estimator DecisionTreeClassifier from version 1.7.0 when using version 1.6.1. This might lead to breaking code or invalid results. Use at your own risk. For more info please refer to:\n",
      "https://scikit-learn.org/stable/model_persistence.html#security-maintainability-limitations\n",
      "  warnings.warn(\n",
      "/home/fahad/projects/personal/sentiment_analysis_bangla/venv/lib/python3.11/site-packages/sklearn/base.py:380: InconsistentVersionWarning: Trying to unpickle estimator RandomForestClassifier from version 1.7.0 when using version 1.6.1. This might lead to breaking code or invalid results. Use at your own risk. For more info please refer to:\n",
      "https://scikit-learn.org/stable/model_persistence.html#security-maintainability-limitations\n",
      "  warnings.warn(\n",
      "2025-06-25 10:58:41,359 - INFO - Loaded model: baseline_RandomForest_tuned_grid\n",
      "Loading baseline models: 100%|██████████| 4/4 [00:02<00:00,  1.42it/s]\n",
      "Loading mitigated models:   0%|          | 0/16 [00:00<?, ?it/s]2025-06-25 10:58:41,373 - INFO - Loaded model: mitigated_LogisticRegression_smote_tuned\n",
      "2025-06-25 10:58:41,378 - INFO - Loaded model: mitigated_LogisticRegression_undersampled_tuned\n",
      "2025-06-25 10:58:41,383 - INFO - Loaded model: mitigated_LogisticRegression_nearmiss_tuned\n",
      "2025-06-25 10:58:41,389 - INFO - Loaded model: mitigated_LogisticRegression_weighted_tuned\n",
      "2025-06-25 10:58:41,402 - INFO - Loaded model: mitigated_SVM_smote_tuned\n",
      "2025-06-25 10:58:41,414 - INFO - Loaded model: mitigated_SVM_undersampled_tuned\n",
      "2025-06-25 10:58:41,427 - INFO - Loaded model: mitigated_SVM_nearmiss_tuned\n",
      "2025-06-25 10:58:41,445 - INFO - Loaded model: mitigated_SVM_weighted_tuned\n",
      "2025-06-25 10:58:41,451 - INFO - Loaded model: mitigated_NaiveBayes_smote_tuned\n",
      "2025-06-25 10:58:41,462 - INFO - Loaded model: mitigated_NaiveBayes_undersampled_tuned\n",
      "2025-06-25 10:58:41,468 - INFO - Loaded model: mitigated_NaiveBayes_nearmiss_tuned\n",
      "Loading mitigated models:  69%|██████▉   | 11/16 [00:00<00:00, 109.33it/s]2025-06-25 10:58:41,479 - INFO - Loaded model: mitigated_NaiveBayes_weighted_tuned\n",
      "2025-06-25 10:58:42,249 - INFO - Loaded model: mitigated_RandomForest_smote_tuned\n",
      "2025-06-25 10:58:42,428 - INFO - Loaded model: mitigated_RandomForest_undersampled_tuned\n",
      "2025-06-25 10:58:42,580 - INFO - Loaded model: mitigated_RandomForest_nearmiss_tuned\n",
      "2025-06-25 10:58:43,520 - INFO - Loaded model: mitigated_RandomForest_weighted_tuned\n",
      "Loading mitigated models: 100%|██████████| 16/16 [00:02<00:00,  7.44it/s] \n"
     ]
    }
   ],
   "source": [
    "# Load models\n",
    "model_dir_baseline = \"models/baseline_models/\"\n",
    "model_dir_mitigated = \"models/mitigated_models/\"\n",
    "\n",
    "model_configs = [\n",
    "    ('baseline', model_dir_baseline, ['LogisticRegression_tuned_grid', 'SVM_tuned_grid', 'NaiveBayes_tuned_grid', 'RandomForest_tuned_grid']),\n",
    "    ('mitigated', model_dir_mitigated, [\n",
    "        f\"{model}_{mitigation}_tuned\"\n",
    "        for model in ['LogisticRegression', 'SVM', 'NaiveBayes', 'RandomForest']\n",
    "        for mitigation in ['smote', 'undersampled', 'nearmiss', 'weighted']\n",
    "    ])\n",
    "]\n",
    "models = {}\n",
    "for config_type, model_dir, model_names in model_configs:\n",
    "    for name in tqdm(model_names, desc=f\"Loading {config_type} models\"):\n",
    "        try:\n",
    "            models[f\"{config_type}_{name}\"] = joblib.load(f\"{model_dir}{name}.joblib\")\n",
    "            logging.info(f\"Loaded model: {config_type}_{name}\")\n",
    "        except Exception as e:\n",
    "            logging.error(f\"Error loading {name}: {str(e)}\")"
   ]
  },
  {
   "cell_type": "code",
   "execution_count": null,
   "metadata": {},
   "outputs": [],
   "source": []
  }
 ],
 "metadata": {
  "kernelspec": {
   "display_name": "venv",
   "language": "python",
   "name": "python3"
  },
  "language_info": {
   "codemirror_mode": {
    "name": "ipython",
    "version": 3
   },
   "file_extension": ".py",
   "mimetype": "text/x-python",
   "name": "python",
   "nbconvert_exporter": "python",
   "pygments_lexer": "ipython3",
   "version": "3.11.13"
  }
 },
 "nbformat": 4,
 "nbformat_minor": 2
}
