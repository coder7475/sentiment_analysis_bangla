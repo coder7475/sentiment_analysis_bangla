{
 "cells": [
  {
   "cell_type": "markdown",
   "metadata": {},
   "source": [
    "## Phase 3: Baseline Model Training \n",
    "\n",
    "\n",
    "**Objective**: Establish baseline performance for sentiment classification on the Bangla Sentiment Dataset without imbalance mitigation, using Logistic Regression, SVM, Naive Bayes (MultinomialNB), and BanglaBERT, to quantify the impact of class imbalance."
   ]
  },
  {
   "cell_type": "markdown",
   "metadata": {},
   "source": [
    "### Step 1: Load Preprocessed Data\n",
    "\n",
    "- **Objective**: Load TF-IDF matrices, labels, and BERT tokens from Phase 2 for model training."
   ]
  },
  {
   "cell_type": "code",
   "execution_count": 2,
   "metadata": {},
   "outputs": [
    {
     "name": "stdout",
     "output_type": "stream",
     "text": [
      "TF-IDF Train Shape: (6193, 5000)\n",
      "Labels Train Shape: (6193,)\n",
      "BERT Input IDs Shape: (7743, 128)\n",
      "Label Distribution (Train):\n",
      " 0    47.359922\n",
      "2    29.081221\n",
      "1    23.558857\n",
      "Name: proportion, dtype: float64\n"
     ]
    }
   ],
   "source": [
    "import pandas as pd\n",
    "import numpy as np\n",
    "import scipy.sparse as sp\n",
    "    \n",
    "# Load TF-IDF matrices\n",
    "tfidf_train = sp.load_npz(\"text_representation/tfidf_train.npz\")\n",
    "tfidf_val = sp.load_npz(\"text_representation/tfidf_val.npz\")\n",
    "tfidf_test = sp.load_npz(\"text_representation/tfidf_test.npz\")\n",
    "    \n",
    "# Load labels\n",
    "y_train = pd.read_csv(\"text_representation/labels_train.csv\")['Label'].values\n",
    "y_val = pd.read_csv(\"text_representation/labels_val.csv\")['Label'].values\n",
    "y_test = pd.read_csv(\"text_representation/labels_test.csv\")['Label'].values\n",
    "    \n",
    "# Load BERT tokens\n",
    "bert_input_ids = np.load(\"text_representation/bert_input_ids.npy\")\n",
    "bert_attention_masks = np.load(\"text_representation/bert_attention_masks.npy\")\n",
    "    \n",
    "# Verify shapes\n",
    "print(\"TF-IDF Train Shape:\", tfidf_train.shape)\n",
    "print(\"Labels Train Shape:\", y_train.shape)\n",
    "print(\"BERT Input IDs Shape:\", bert_input_ids.shape)\n",
    "print(\"Label Distribution (Train):\\n\", pd.Series(y_train).value_counts(normalize=True) * 100)"
   ]
  },
  {
   "cell_type": "markdown",
   "metadata": {},
   "source": [
    "### Step 2: Train Logistic Regression, SVM, and Naive Bayes Models\n",
    "\n",
    "- **Objective**: Train baseline Logistic Regression, SVM, and Multinomial Naive Bayes models on the imbalanced TF-IDF training set."
   ]
  },
  {
   "cell_type": "code",
   "execution_count": 4,
   "metadata": {},
   "outputs": [],
   "source": [
    "from sklearn.linear_model import LogisticRegression\n",
    "from sklearn.svm import SVC\n",
    "from sklearn.naive_bayes import MultinomialNB\n",
    "\n",
    "# Initialize models\n",
    "models = {\n",
    "    'NaiveBayes': MultinomialNB(),\n",
    "    'LogisticRegression': LogisticRegression(max_iter=1000, random_state=42),\n",
    "    'SVM': SVC(probability=True, random_state=42),\n",
    "}"
   ]
  },
  {
   "cell_type": "code",
   "execution_count": 5,
   "metadata": {},
   "outputs": [
    {
     "name": "stderr",
     "output_type": "stream",
     "text": [
      "Training Models....: 100%|██████████| 3/3 [01:05<00:00, 21.94s/it]\n"
     ]
    }
   ],
   "source": [
    "from sklearn.metrics import accuracy_score, precision_recall_fscore_support, roc_auc_score\n",
    "from sklearn.preprocessing import LabelBinarizer\n",
    "from tqdm import tqdm\n",
    "import joblib\n",
    "\n",
    "# Train and evaluate\n",
    "results = {} # store the performance of models\n",
    "lb = LabelBinarizer()  # turns y_val into binary format for ROC-AUC\n",
    "\n",
    "for name, model in tqdm(models.items(), desc=\"Training Models....\"):\n",
    "    # Train\n",
    "    model.fit(tfidf_train, y_train)\n",
    "        \n",
    "    # Predict on validation set\n",
    "    y_pred = model.predict(tfidf_val)\n",
    "        \n",
    "    # Compute metrics\n",
    "    accuracy = accuracy_score(y_val, y_pred)\n",
    "    precision, recall, f1, _ = precision_recall_fscore_support(y_val, y_pred, average='weighted')\n",
    "    precision_per_class, recall_per_class, f1_per_class, _ = precision_recall_fscore_support(y_val, y_pred)\n",
    "        \n",
    "    # ROC-AUC (one-vs-rest)\n",
    "    y_val_bin = lb.fit_transform(y_val)\n",
    "    y_pred_proba = model.predict_proba(tfidf_val)\n",
    "    roc_auc = roc_auc_score(y_val_bin, y_pred_proba, multi_class='ovr')\n",
    "        \n",
    "    # Store results\n",
    "    results[name] = {\n",
    "        'accuracy': accuracy,\n",
    "        'precision_weighted': precision,\n",
    "        'recall_weighted': recall,\n",
    "        'f1_weighted': f1,\n",
    "        'f1_per_class': f1_per_class,\n",
    "        'roc_auc': roc_auc\n",
    "    }\n",
    "        \n",
    "    # Save model\n",
    "    joblib.dump(model, f\"models/baseline_models/{name}_baseline.joblib\")\n",
    "    "
   ]
  },
  {
   "cell_type": "code",
   "execution_count": 6,
   "metadata": {},
   "outputs": [
    {
     "name": "stdout",
     "output_type": "stream",
     "text": [
      "\n",
      "NaiveBayes Validation Metrics:\n",
      "Accuracy: 0.6155\n",
      "Weighted F1: 0.5797\n",
      "F1 per Class (Neg, Pos, Neu): [0.71518987 0.44186047 0.47093023]\n",
      "ROC-AUC: 0.7241\n",
      "\n",
      "LogisticRegression Validation Metrics:\n",
      "Accuracy: 0.5935\n",
      "Weighted F1: 0.5776\n",
      "F1 per Class (Neg, Pos, Neu): [0.68304094 0.46938776 0.49376559]\n",
      "ROC-AUC: 0.7188\n",
      "\n",
      "SVM Validation Metrics:\n",
      "Accuracy: 0.6103\n",
      "Weighted F1: 0.5811\n",
      "F1 per Class (Neg, Pos, Neu): [0.7063922  0.45864662 0.47645429]\n",
      "ROC-AUC: 0.7183\n"
     ]
    }
   ],
   "source": [
    "# Print results\n",
    "for name, metrics in results.items():\n",
    "    print(f\"\\n{name} Validation Metrics:\")\n",
    "    print(f\"Accuracy: {metrics['accuracy']:.4f}\")\n",
    "    print(f\"Weighted F1: {metrics['f1_weighted']:.4f}\")\n",
    "    print(f\"F1 per Class (Neg, Pos, Neu): {metrics['f1_per_class']}\")\n",
    "    print(f\"ROC-AUC: {metrics['roc_auc']:.4f}\")"
   ]
  },
  {
   "cell_type": "code",
   "execution_count": null,
   "metadata": {},
   "outputs": [],
   "source": []
  }
 ],
 "metadata": {
  "kernelspec": {
   "display_name": ".venv",
   "language": "python",
   "name": "python3"
  },
  "language_info": {
   "codemirror_mode": {
    "name": "ipython",
    "version": 3
   },
   "file_extension": ".py",
   "mimetype": "text/x-python",
   "name": "python",
   "nbconvert_exporter": "python",
   "pygments_lexer": "ipython3",
   "version": "3.11.13"
  }
 },
 "nbformat": 4,
 "nbformat_minor": 2
}
