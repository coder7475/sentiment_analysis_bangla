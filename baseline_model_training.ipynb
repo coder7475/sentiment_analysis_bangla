{
 "cells": [
  {
   "cell_type": "markdown",
   "metadata": {},
   "source": [
    "## Phase 3: Baseline Model Training \n",
    "\n",
    "\n",
    "**Objective**: Establish baseline performance for sentiment classification on the Bangla Sentiment Dataset without imbalance mitigation, using Logistic Regression, SVM, Naive Bayes (MultinomialNB), and BanglaBERT, to quantify the impact of class imbalance."
   ]
  },
  {
   "cell_type": "markdown",
   "metadata": {},
   "source": [
    "### Step 1: Load Preprocessed Data"
   ]
  },
  {
   "cell_type": "code",
   "execution_count": 2,
   "metadata": {},
   "outputs": [
    {
     "name": "stdout",
     "output_type": "stream",
     "text": [
      "TF-IDF Train Shape: (6193, 5000)\n",
      "Labels Train Shape: (6193,)\n",
      "BERT Input IDs Shape: (7743, 128)\n",
      "Label Distribution (Train):\n",
      " 0    47.359922\n",
      "2    29.081221\n",
      "1    23.558857\n",
      "Name: proportion, dtype: float64\n"
     ]
    }
   ],
   "source": [
    "import pandas as pd\n",
    "import numpy as np\n",
    "import scipy.sparse as sp\n",
    "    \n",
    "# Load TF-IDF matrices\n",
    "tfidf_train = sp.load_npz(\"text_representation/tfidf_train.npz\")\n",
    "tfidf_val = sp.load_npz(\"text_representation/tfidf_val.npz\")\n",
    "tfidf_test = sp.load_npz(\"text_representation/tfidf_test.npz\")\n",
    "    \n",
    "# Load labels\n",
    "y_train = pd.read_csv(\"text_representation/labels_train.csv\")['Label'].values\n",
    "y_val = pd.read_csv(\"text_representation/labels_val.csv\")['Label'].values\n",
    "y_test = pd.read_csv(\"text_representation/labels_test.csv\")['Label'].values\n",
    "    \n",
    "# Load BERT tokens\n",
    "bert_input_ids = np.load(\"text_representation/bert_input_ids.npy\")\n",
    "bert_attention_masks = np.load(\"text_representation/bert_attention_masks.npy\")\n",
    "    \n",
    "# Verify shapes\n",
    "print(\"TF-IDF Train Shape:\", tfidf_train.shape)\n",
    "print(\"Labels Train Shape:\", y_train.shape)\n",
    "print(\"BERT Input IDs Shape:\", bert_input_ids.shape)\n",
    "print(\"Label Distribution (Train):\\n\", pd.Series(y_train).value_counts(normalize=True) * 100)"
   ]
  },
  {
   "cell_type": "code",
   "execution_count": null,
   "metadata": {},
   "outputs": [],
   "source": []
  }
 ],
 "metadata": {
  "kernelspec": {
   "display_name": ".venv",
   "language": "python",
   "name": "python3"
  },
  "language_info": {
   "codemirror_mode": {
    "name": "ipython",
    "version": 3
   },
   "file_extension": ".py",
   "mimetype": "text/x-python",
   "name": "python",
   "nbconvert_exporter": "python",
   "pygments_lexer": "ipython3",
   "version": "3.11.13"
  }
 },
 "nbformat": 4,
 "nbformat_minor": 2
}
