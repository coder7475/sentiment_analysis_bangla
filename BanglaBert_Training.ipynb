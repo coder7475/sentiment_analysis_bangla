{
 "cells": [
  {
   "cell_type": "markdown",
   "metadata": {},
   "source": [
    "# BanglaBert Training using Colab\n"
   ]
  },
  {
   "cell_type": "code",
   "execution_count": 1,
   "metadata": {},
   "outputs": [
    {
     "name": "stderr",
     "output_type": "stream",
     "text": [
      "2025-06-18 13:35:07,746 - INFO - Output directory created: banglabert_baseline\n"
     ]
    }
   ],
   "source": [
    "import os\n",
    "import logging\n",
    "    \n",
    "# Set up logging\n",
    "logging.basicConfig(level=logging.INFO, format='%(asctime)s - %(levelname)s - %(message)s')\n",
    "    \n",
    "# Create output directory\n",
    "os.makedirs(\"models/baseline_models/banglabert_baseline\", exist_ok=True)\n",
    "logging.info(\"Output directory created: banglabert_baseline\")    "
   ]
  },
  {
   "cell_type": "code",
   "execution_count": 4,
   "metadata": {},
   "outputs": [],
   "source": [
    "# Define paths\n",
    "data_dir = \"text_representation/\"\n",
    "files = {\n",
    "    'input_ids': f\"{data_dir}bert_input_ids.npy\",\n",
    "    'attention_masks': f\"{data_dir}bert_attention_masks.npy\",\n",
    "    'labels_train': f\"{data_dir}labels_train.csv\",\n",
    "    'labels_val': f\"{data_dir}labels_val.csv\",\n",
    "    'split_indices': f\"{data_dir}split_indices.csv\"\n",
    "}"
   ]
  },
  {
   "cell_type": "code",
   "execution_count": null,
   "metadata": {},
   "outputs": [],
   "source": []
  }
 ],
 "metadata": {
  "kernelspec": {
   "display_name": "venv",
   "language": "python",
   "name": "python3"
  },
  "language_info": {
   "codemirror_mode": {
    "name": "ipython",
    "version": 3
   },
   "file_extension": ".py",
   "mimetype": "text/x-python",
   "name": "python",
   "nbconvert_exporter": "python",
   "pygments_lexer": "ipython3",
   "version": "3.11.13"
  }
 },
 "nbformat": 4,
 "nbformat_minor": 2
}
