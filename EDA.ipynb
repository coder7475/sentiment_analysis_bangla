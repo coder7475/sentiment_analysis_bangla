{
 "cells": [
  {
   "cell_type": "markdown",
   "metadata": {},
   "source": [
    "### 1. Objectives\n",
    "\n",
    "- Quantify the extent of class imbalance (Positive, Negative, Neutral) in the Bangla Sentiment Dataset and its impact on sentiment classification performance.\n",
    "- Evaluate three lightweight mitigation techniques—Synthetic Minority Oversampling Technique (SMOTE), random undersampling, and weighted loss functions—in improving model accuracy and robustness.\n",
    "- Assess performance differences across dataset sources (newspapers, social media, blogs) to understand source-specific imbalance effects.\n",
    "\n",
    "### 2. Hypotheses\n",
    "\n",
    "- **H1**: Class imbalance in the Bangla Sentiment Dataset reduces sentiment classification performance, particularly for minority classes, as measured by per-class F1-scores.\n",
    "- **H2**: Mitigation techniques (SMOTE, undersampling, weighted loss) significantly improve model performance compared to baseline models, as measured by weighted F1-score and ROC-AUC.\n",
    "- **H3**: Mitigation effectiveness varies across sources (newspapers, social media, blogs) due to differences in linguistic style and imbalance patterns.\n",
    "\n"
   ]
  },
  {
   "cell_type": "code",
   "execution_count": 1,
   "metadata": {},
   "outputs": [
    {
     "name": "stdout",
     "output_type": "stream",
     "text": [
      "                                               Tense  Label\n",
      "0  জিনিসপত্রের অতিরিক্ত দাম বৃদ্ধির জন্য এই শহরে ...    0.0\n",
      "1  সঠিক ভাবে তদারকি করলে এই সমস্যা থেকে পরিত্রান ...    1.0\n",
      "2  দেশের টাকা যখন বিদেশে চোলে যাচ্ছে তখন দেশের সর...    0.0\n",
      "3          ওনার মতো ব্যর্থ মন্ত্রীর পদত্যাগ করা উচিত    0.0\n",
      "4                 আল্লাহ তোদের বিচার করবে অপেক্ষা কর    0.0\n"
     ]
    }
   ],
   "source": [
    "# Load the dataset\n",
    "import pandas as pd\n",
    "\n",
    "# Load the Excel file\n",
    "df = pd.read_excel('data-source/sentiment_dataset.xlsx', engine='openpyxl')\n",
    "\n",
    "# Show first 5 rows\n",
    "print(df.head())"
   ]
  },
  {
   "cell_type": "code",
   "execution_count": 3,
   "metadata": {},
   "outputs": [],
   "source": [
    "# Convert to csv for better load speed\n",
    "df.to_csv('data-source/data.csv', index=False)\n"
   ]
  },
  {
   "cell_type": "markdown",
   "metadata": {},
   "source": [
    "# Import all necessary libraries"
   ]
  },
  {
   "cell_type": "code",
   "execution_count": 2,
   "metadata": {},
   "outputs": [],
   "source": [
    "# Basic data processing\n",
    "import numpy as np\n",
    "import pandas as pd\n",
    "import matplotlib.pyplot as plt\n",
    "import seaborn as sns\n",
    "import os\n",
    "import shutil\n",
    "# Machine Learning\n",
    "from sklearn.preprocessing import StandardScaler\n",
    "from sklearn.model_selection import train_test_split\n",
    "from sklearn.metrics import (\n",
    "    accuracy_score, precision_score,\n",
    "    recall_score, f1_score,\n",
    "    classification_report, confusion_matrix\n",
    ")\n",
    "\n",
    "# MLflow tracking\n",
    "import mlflow\n",
    "import mlflow.sklearn\n",
    "from mlflow.models import infer_signature"
   ]
  },
  {
   "cell_type": "code",
   "execution_count": 4,
   "metadata": {},
   "outputs": [],
   "source": [
    "# Load the csv file\n",
    "df = pd.read_csv('data-source/data.csv')"
   ]
  },
  {
   "cell_type": "markdown",
   "metadata": {},
   "source": [
    "## Initial Data Exploration"
   ]
  },
  {
   "cell_type": "code",
   "execution_count": 7,
   "metadata": {},
   "outputs": [
    {
     "data": {
      "text/html": [
       "<div>\n",
       "<style scoped>\n",
       "    .dataframe tbody tr th:only-of-type {\n",
       "        vertical-align: middle;\n",
       "    }\n",
       "\n",
       "    .dataframe tbody tr th {\n",
       "        vertical-align: top;\n",
       "    }\n",
       "\n",
       "    .dataframe thead th {\n",
       "        text-align: right;\n",
       "    }\n",
       "</style>\n",
       "<table border=\"1\" class=\"dataframe\">\n",
       "  <thead>\n",
       "    <tr style=\"text-align: right;\">\n",
       "      <th></th>\n",
       "      <th>Tense</th>\n",
       "      <th>Label</th>\n",
       "    </tr>\n",
       "  </thead>\n",
       "  <tbody>\n",
       "    <tr>\n",
       "      <th>0</th>\n",
       "      <td>জিনিসপত্রের অতিরিক্ত দাম বৃদ্ধির জন্য এই শহরে ...</td>\n",
       "      <td>0.0</td>\n",
       "    </tr>\n",
       "    <tr>\n",
       "      <th>1</th>\n",
       "      <td>সঠিক ভাবে তদারকি করলে এই সমস্যা থেকে পরিত্রান ...</td>\n",
       "      <td>1.0</td>\n",
       "    </tr>\n",
       "    <tr>\n",
       "      <th>2</th>\n",
       "      <td>দেশের টাকা যখন বিদেশে চোলে যাচ্ছে তখন দেশের সর...</td>\n",
       "      <td>0.0</td>\n",
       "    </tr>\n",
       "    <tr>\n",
       "      <th>3</th>\n",
       "      <td>ওনার মতো ব্যর্থ মন্ত্রীর পদত্যাগ করা উচিত</td>\n",
       "      <td>0.0</td>\n",
       "    </tr>\n",
       "    <tr>\n",
       "      <th>4</th>\n",
       "      <td>আল্লাহ তোদের বিচার করবে অপেক্ষা কর</td>\n",
       "      <td>0.0</td>\n",
       "    </tr>\n",
       "  </tbody>\n",
       "</table>\n",
       "</div>"
      ],
      "text/plain": [
       "                                               Tense  Label\n",
       "0  জিনিসপত্রের অতিরিক্ত দাম বৃদ্ধির জন্য এই শহরে ...    0.0\n",
       "1  সঠিক ভাবে তদারকি করলে এই সমস্যা থেকে পরিত্রান ...    1.0\n",
       "2  দেশের টাকা যখন বিদেশে চোলে যাচ্ছে তখন দেশের সর...    0.0\n",
       "3          ওনার মতো ব্যর্থ মন্ত্রীর পদত্যাগ করা উচিত    0.0\n",
       "4                 আল্লাহ তোদের বিচার করবে অপেক্ষা কর    0.0"
      ]
     },
     "execution_count": 7,
     "metadata": {},
     "output_type": "execute_result"
    }
   ],
   "source": [
    "df.head(5)"
   ]
  },
  {
   "cell_type": "code",
   "execution_count": 10,
   "metadata": {},
   "outputs": [
    {
     "name": "stdout",
     "output_type": "stream",
     "text": [
      "Shape of dataset: (9162, 2)\n"
     ]
    }
   ],
   "source": [
    "# shape of dataset\n",
    "print(\"Shape of dataset: {}\".format(df.shape))"
   ]
  },
  {
   "cell_type": "code",
   "execution_count": 12,
   "metadata": {},
   "outputs": [
    {
     "name": "stdout",
     "output_type": "stream",
     "text": [
      "Column names in the dataset:\n",
      "Index(['Tense', 'Label'], dtype='object')\n"
     ]
    }
   ],
   "source": [
    "# Display the column names\n",
    "print(\"Column names in the dataset:\")\n",
    "print(df.columns)"
   ]
  },
  {
   "cell_type": "code",
   "execution_count": 14,
   "metadata": {},
   "outputs": [
    {
     "name": "stdout",
     "output_type": "stream",
     "text": [
      "Data types of each column:\n",
      "Tense     object\n",
      "Label    float64\n",
      "dtype: object\n"
     ]
    }
   ],
   "source": [
    "# Display the data types of each column\n",
    "print(\"Data types of each column:\")\n",
    "print(df.dtypes)"
   ]
  },
  {
   "cell_type": "code",
   "execution_count": 15,
   "metadata": {},
   "outputs": [
    {
     "name": "stdout",
     "output_type": "stream",
     "text": [
      "Information about the dataset:\n",
      "<class 'pandas.core.frame.DataFrame'>\n",
      "RangeIndex: 9162 entries, 0 to 9161\n",
      "Data columns (total 2 columns):\n",
      " #   Column  Non-Null Count  Dtype  \n",
      "---  ------  --------------  -----  \n",
      " 0   Tense   9162 non-null   object \n",
      " 1   Label   9154 non-null   float64\n",
      "dtypes: float64(1), object(1)\n",
      "memory usage: 143.3+ KB\n",
      "None\n"
     ]
    }
   ],
   "source": [
    "# Display information about the dataset\n",
    "print(\"Information about the dataset:\")\n",
    "print(df.info())"
   ]
  },
  {
   "cell_type": "code",
   "execution_count": 18,
   "metadata": {},
   "outputs": [
    {
     "name": "stdout",
     "output_type": "stream",
     "text": [
      "Null values in the dataset:\n",
      "Tense    0\n",
      "Label    8\n",
      "dtype: int64\n"
     ]
    }
   ],
   "source": [
    "# Check for null values in the dataset\n",
    "print(\"Null values in the dataset:\")\n",
    "print(df.isnull().sum())"
   ]
  },
  {
   "cell_type": "code",
   "execution_count": 20,
   "metadata": {},
   "outputs": [
    {
     "name": "stdout",
     "output_type": "stream",
     "text": [
      "Duplicate values in the dataset:\n",
      "1412\n"
     ]
    }
   ],
   "source": [
    "# Check for duplicate values in the dataset\n",
    "print(\"Duplicate values in the dataset:\")\n",
    "print(df.duplicated().sum())"
   ]
  },
  {
   "cell_type": "code",
   "execution_count": 21,
   "metadata": {},
   "outputs": [
    {
     "name": "stdout",
     "output_type": "stream",
     "text": [
      "Summary statistics of the dataset:\n",
      "             Label\n",
      "count  9154.000000\n",
      "mean      0.856565\n",
      "std       0.860452\n",
      "min       0.000000\n",
      "25%       0.000000\n",
      "50%       1.000000\n",
      "75%       2.000000\n",
      "max       2.000000\n"
     ]
    }
   ],
   "source": [
    "# Display summary statistics of the dataset\n",
    "print(\"Summary statistics of the dataset:\")\n",
    "print(df.describe())"
   ]
  },
  {
   "cell_type": "code",
   "execution_count": 24,
   "metadata": {},
   "outputs": [
    {
     "name": "stdout",
     "output_type": "stream",
     "text": [
      "Index(['Tense'], dtype='object')\n",
      "Index(['Label'], dtype='object')\n"
     ]
    }
   ],
   "source": [
    "# Separate categorical and numerical features\n",
    "categorical_features = df.select_dtypes(include=\"object\").columns\n",
    "numerical_features = df.select_dtypes(exclude=\"object\").columns\n",
    "print(categorical_features)\n",
    "print(numerical_features)"
   ]
  },
  {
   "cell_type": "markdown",
   "metadata": {},
   "source": [
    "### Phase 1: Data Exploration and Imbalance Analysis\n",
    "\n",
    "- **Objective**: Quantify class imbalance and establish baseline characteristics.\n",
    "- **Steps**:\n",
    "    1. Load dataset using pandas.\n",
    "    2. Calculate label distribution (Positive, Negative, Neutral) overall and by source (newspapers, social media, blogs).\n",
    "    3. Visualize distributions using matplotlib/seaborn (e.g., bar charts, pie charts).\n",
    "    4. Identify imbalance severity (e.g., ratio of majority to minority classes)."
   ]
  },
  {
   "cell_type": "code",
   "execution_count": 32,
   "metadata": {},
   "outputs": [
    {
     "name": "stdout",
     "output_type": "stream",
     "text": [
      "                                               Tense  Label\n",
      "0  জিনিসপত্রের অতিরিক্ত দাম বৃদ্ধির জন্য এই শহরে ...    0.0\n",
      "1  সঠিক ভাবে তদারকি করলে এই সমস্যা থেকে পরিত্রান ...    1.0\n",
      "2  দেশের টাকা যখন বিদেশে চোলে যাচ্ছে তখন দেশের সর...    0.0\n",
      "3          ওনার মতো ব্যর্থ মন্ত্রীর পদত্যাগ করা উচিত    0.0\n",
      "4                 আল্লাহ তোদের বিচার করবে অপেক্ষা কর    0.0\n",
      "Tense    0\n",
      "Label    8\n",
      "dtype: int64\n"
     ]
    }
   ],
   "source": [
    "# Display first few rows to verify\n",
    "print(df.head())\n",
    "\n",
    "# Check for missing values\n",
    "print(df.isnull().sum()) "
   ]
  },
  {
   "cell_type": "code",
   "execution_count": 33,
   "metadata": {},
   "outputs": [
    {
     "name": "stdout",
     "output_type": "stream",
     "text": [
      "Tense: ['জিনিসপত্রের অতিরিক্ত দাম বৃদ্ধির জন্য এই শহরে জীবন ধারণ করা কঠিন হয়ে যাচ্ছে'\n",
      " 'সঠিক ভাবে তদারকি করলে এই সমস্যা থেকে পরিত্রান পওয়া সম্ভব'\n",
      " 'দেশের টাকা যখন বিদেশে চোলে যাচ্ছে তখন দেশের সরকার কী করেন ' ...\n",
      " 'দয়া করে কেও ফুড পান্ডায় ওয়াডার দিবেন না'\n",
      " 'আপনাদের কাছে টাকা আছে ভালো কথা  আপনারা রেষ্টুরেন্টে গিয়ে পছন্দসই খাবার অর্ডার করে গরম খাবার খাবেন'\n",
      " 'এই ঘরবন্দি জীবনে ফুডপান্ডার ভুমিকা সত্যিই প্রসংশনীয় ভালো কাজের জন্যে শুভকামনা']\n",
      "Lables: [ 0.  1.  2. nan]\n"
     ]
    }
   ],
   "source": [
    "# Verify unique tense and labels\n",
    "print(\"Tense:\", df['Tense'].unique())\n",
    "print(\"Lables:\", df['Label'].unique()) "
   ]
  },
  {
   "cell_type": "code",
   "execution_count": 36,
   "metadata": {},
   "outputs": [],
   "source": [
    "# Overall label distribution\n",
    "overall_distribution = df['Tense'].value_counts()\n",
    "overall_distribution_percent = df['Tense'].value_counts(normalize=True) * 100"
   ]
  },
  {
   "cell_type": "code",
   "execution_count": 37,
   "metadata": {},
   "outputs": [
    {
     "name": "stdout",
     "output_type": "stream",
     "text": [
      "Overall Label Distribution (Counts):\n",
      "Tense\n",
      "প্রকাশ্যে ফাঁসি দিলে এমন কাজ আর কেউ করতে সাহস পেতোনা                             9\n",
      "এই হাসপাতালের সাথে যারা জড়িত আছে সবাই কে ফাঁসি দিতে হবে                          6\n",
      "ডেসটিনি থেকে যারা শিক্ষা নিতে পারলোনা তাদের কপালে এমনটা হওয়াই উচিৎ               6\n",
      "বাংলাদেশের মানুষ খুব লোভী তার জন্যই বারবার এমন হয়                                6\n",
      "বর্তমানে বাংলাদেশের যতগুলো ই কমার্স সাইট আছে সবগুলোই বাটপার                      5\n",
      "                                                                                ..\n",
      "বর্তমানে দেশের জনগন মনে হয় সবকিছুর জন্য শুধু পুলিশকে দায়ী করছে                   1\n",
      "দুর্নীতি বন্ধ ও দমন করতে পারলে জিনিষপত্রদের দাম অর্ধেক করা সম্ভব                 1\n",
      "দুর্নীতিবাজদের দুর্নীতির কারণে দেশের আজকে বেহাল অবস্থা                           1\n",
      "এমন উন্নয়ন আমরা চাই না যেই উন্নয়নের কারণে মানুষের ভোগান্তি অনেক বাড়ে          1\n",
      "এই ঘরবন্দি জীবনে ফুডপান্ডার ভুমিকা সত্যিই প্রসংশনীয় ভালো কাজের জন্যে শুভকামনা    1\n",
      "Name: count, Length: 7584, dtype: int64\n",
      "\n",
      "Overall Label Distribution (Percentages):\n",
      "Tense\n",
      "প্রকাশ্যে ফাঁসি দিলে এমন কাজ আর কেউ করতে সাহস পেতোনা                             0.098232\n",
      "এই হাসপাতালের সাথে যারা জড়িত আছে সবাই কে ফাঁসি দিতে হবে                          0.065488\n",
      "ডেসটিনি থেকে যারা শিক্ষা নিতে পারলোনা তাদের কপালে এমনটা হওয়াই উচিৎ               0.065488\n",
      "বাংলাদেশের মানুষ খুব লোভী তার জন্যই বারবার এমন হয়                                0.065488\n",
      "বর্তমানে বাংলাদেশের যতগুলো ই কমার্স সাইট আছে সবগুলোই বাটপার                      0.054573\n",
      "                                                                                   ...   \n",
      "বর্তমানে দেশের জনগন মনে হয় সবকিছুর জন্য শুধু পুলিশকে দায়ী করছে                   0.010915\n",
      "দুর্নীতি বন্ধ ও দমন করতে পারলে জিনিষপত্রদের দাম অর্ধেক করা সম্ভব                 0.010915\n",
      "দুর্নীতিবাজদের দুর্নীতির কারণে দেশের আজকে বেহাল অবস্থা                           0.010915\n",
      "এমন উন্নয়ন আমরা চাই না যেই উন্নয়নের কারণে মানুষের ভোগান্তি অনেক বাড়ে          0.010915\n",
      "এই ঘরবন্দি জীবনে ফুডপান্ডার ভুমিকা সত্যিই প্রসংশনীয় ভালো কাজের জন্যে শুভকামনা    0.010915\n",
      "Name: proportion, Length: 7584, dtype: float64\n"
     ]
    }
   ],
   "source": [
    "print(\"Overall Label Distribution (Counts):\")\n",
    "print(overall_distribution)\n",
    "print(\"\\nOverall Label Distribution (Percentages):\")\n",
    "print(overall_distribution_percent)"
   ]
  },
  {
   "cell_type": "code",
   "execution_count": 38,
   "metadata": {},
   "outputs": [
    {
     "name": "stdout",
     "output_type": "stream",
     "text": [
      "\n",
      "Label-Specific Data Distribution (Counts):\n",
      "Tense  আমাদের দেশের মানুষ এত বোকা কেন তারা কেন এইসব এজেন্টদের টাকা দেয়  \\\n",
      "Label                                                                    \n",
      "0.0                                                    5                 \n",
      "1.0                                                    0                 \n",
      "2.0                                                    0                 \n",
      "\n",
      "Tense  এই সব ভুয়া ই কমার্স কোম্পানিগুলো বারবার মানুষকে ঠকাচ্ছে  \\\n",
      "Label                                                             \n",
      "0.0                                                    5          \n",
      "1.0                                                    0          \n",
      "2.0                                                    0          \n",
      "\n",
      "Tense  এগুলো সমাজের নিম্নমানের ও অসভ্য সমাজের লোক  \\\n",
      "Label                                               \n",
      "0.0                                             5   \n",
      "1.0                                             0   \n",
      "2.0                                             0   \n",
      "\n",
      "Tense  কোন একটা অপরাধ পেলে সবাই আসে ওটার বিচার চাওয়ার জন্য  \\\n",
      "Label                                                         \n",
      "0.0                                                    5      \n",
      "1.0                                                    0      \n",
      "2.0                                                    0      \n",
      "\n",
      "Tense  বর্তমান যুগে ছেলে মেয়েরা খুবই খারাপ হয়ে গেছে  \\\n",
      "Label                                                 \n",
      "0.0                                               5   \n",
      "1.0                                               0   \n",
      "2.0                                               0   \n",
      "\n",
      "Tense  যারা এই বয়সে এত কিছু করেছে তাদের বেঁচে থাকার কোন অধিকার নেই  \\\n",
      "Label                                                                \n",
      "0.0                                                    5             \n",
      "1.0                                                    0             \n",
      "2.0                                                    0             \n",
      "\n",
      "Tense  শালারা চোর আবার বড়ো বড়ো কথা বলে  এই কাস্টমারগুলো হায়নার চেয়েও লোভী  \\\n",
      "Label                                                                       \n",
      "0.0                                  5                                  4   \n",
      "1.0                                  0                                  0   \n",
      "2.0                                  0                                  0   \n",
      "\n",
      "Tense  এগুলো দেশের জন্য বড় অভিশাপ  \\\n",
      "Label                               \n",
      "0.0                             4   \n",
      "1.0                             0   \n",
      "2.0                             0   \n",
      "\n",
      "Tense  বর্তমানে বাংলাদেশের যতগুলো ই কমার্স সাইট আছে সবগুলোই বাটপার  ...  \\\n",
      "Label                                                               ...   \n",
      "0.0                                                    4            ...   \n",
      "1.0                                                    0            ...   \n",
      "2.0                                                    1            ...   \n",
      "\n",
      "Tense  ১২০ টাকা মজুরি এটা একেবারে অমানবিক মজুরি অবশ্যই বাড়াতে হবে  \\\n",
      "Label                                                               \n",
      "0.0                                                    0            \n",
      "1.0                                                    0            \n",
      "2.0                                                    1            \n",
      "\n",
      "Tense  ২০ টাকাও আছে \\nযাই হোক স্বাধের মধ্যে তো আছে ভাই  \\\n",
      "Label                                                    \n",
      "0.0                                                  0   \n",
      "1.0                                                  0   \n",
      "2.0                                                  1   \n",
      "\n",
      "Tense  ২০ দিন আগে থেকেই কিনে খাচ্ছি ১৮০ টাকা করে So Sad Digital Bangladesh  \\\n",
      "Label                                                                        \n",
      "0.0                                                    0                     \n",
      "1.0                                                    0                     \n",
      "2.0                                                    1                     \n",
      "\n",
      "Tense  ২৪ ঘন্টার জায়গায় বিদ্যুৎ পায় ৬ ঘন্টা তাহলে কি এটা অর্থনেতিক সংকট না এখন আমাদের দেশের এমন অবস্থা সত্য সংবাদ পাওয়া যায় না  \\\n",
      "Label                                                                                                                            \n",
      "0.0                                                    0                                                                         \n",
      "1.0                                                    0                                                                         \n",
      "2.0                                                    1                                                                         \n",
      "\n",
      "Tense  ৫ টাকা কমার পর আসলে কি জনগণের কোন উপকারে আসবে গাড়ী ভাড়া এবং নিত্য প্রয়োজনীয় কোন জিনিসের দাম কি কমবে   \\\n",
      "Label                                                                                                         \n",
      "0.0                                                    0                                                      \n",
      "1.0                                                    0                                                      \n",
      "2.0                                                    1                                                      \n",
      "\n",
      "Tense  ৫০ টাকা বাড়িয়ে ৫ টাকা কমিয়ে শান্ত না দেয়ার কোন মানে হয় না  \\\n",
      "Label                                                              \n",
      "0.0                                                    0           \n",
      "1.0                                                    0           \n",
      "2.0                                                    1           \n",
      "\n",
      "Tense  ৫০ বছরের মধ্যে রিপোর্ট জমা দিতে বলা হউক  \\\n",
      "Label                                            \n",
      "0.0                                          0   \n",
      "1.0                                          0   \n",
      "2.0                                          1   \n",
      "\n",
      "Tense  ৫৩ হাজার কোটি টাকা ভর্তুকি দেন ভালো দেশের জনগণের জন্য করতেছেন কিন্তু তেলের দাম ডিজেলের দাম প্রতি বছরের ১০ টাকা ২০ টাকা বা প্রতি মাসে দুই চার পাঁচ টাকা করে বাড়ালেই তো পারেন তাই বলে কি একবারেই দাম ডাবল করে ফেলবেন নাকি  \\\n",
      "Label                                                                                                                                                                                                                             \n",
      "0.0                                                    0                                                                                                                                                                          \n",
      "1.0                                                    0                                                                                                                                                                          \n",
      "2.0                                                    1                                                                                                                                                                          \n",
      "\n",
      "Tense  ৮৯ টাকার অকটেন এখন ১৩৫ আপার কথায় খালি ভ্যালকি  \\\n",
      "Label                                                  \n",
      "0.0                                                0   \n",
      "1.0                                                0   \n",
      "2.0                                                1   \n",
      "\n",
      "Tense  ‌নিম্ন আ‌য়ের সাধারণ মানুষ‌দের দেখার কেউ নেই নিত‌্যপন‌্যর এরকম আকাশচুম্বী দাম তা‌দের জীব‌নের জন‌্য এক চরম অ‌ভিশাপ ও দূ‌র্ভিক্ষের সমান  \n",
      "Label                                                                                                                                        \n",
      "0.0                                                    0                                                                                     \n",
      "1.0                                                    0                                                                                     \n",
      "2.0                                                    1                                                                                     \n",
      "\n",
      "[3 rows x 7579 columns]\n",
      "\n",
      "Label-Specific Label Distribution (Percentages):\n",
      "Tense  আমাদের দেশের মানুষ এত বোকা কেন তারা কেন এইসব এজেন্টদের টাকা দেয়  \\\n",
      "Label                                                                    \n",
      "0.0                                             0.120802                 \n",
      "1.0                                             0.000000                 \n",
      "2.0                                             0.000000                 \n",
      "\n",
      "Tense  এই সব ভুয়া ই কমার্স কোম্পানিগুলো বারবার মানুষকে ঠকাচ্ছে  \\\n",
      "Label                                                             \n",
      "0.0                                             0.120802          \n",
      "1.0                                             0.000000          \n",
      "2.0                                             0.000000          \n",
      "\n",
      "Tense  এগুলো সমাজের নিম্নমানের ও অসভ্য সমাজের লোক  \\\n",
      "Label                                               \n",
      "0.0                                      0.120802   \n",
      "1.0                                      0.000000   \n",
      "2.0                                      0.000000   \n",
      "\n",
      "Tense  কোন একটা অপরাধ পেলে সবাই আসে ওটার বিচার চাওয়ার জন্য  \\\n",
      "Label                                                         \n",
      "0.0                                             0.120802      \n",
      "1.0                                             0.000000      \n",
      "2.0                                             0.000000      \n",
      "\n",
      "Tense  বর্তমান যুগে ছেলে মেয়েরা খুবই খারাপ হয়ে গেছে  \\\n",
      "Label                                                 \n",
      "0.0                                        0.120802   \n",
      "1.0                                        0.000000   \n",
      "2.0                                        0.000000   \n",
      "\n",
      "Tense  যারা এই বয়সে এত কিছু করেছে তাদের বেঁচে থাকার কোন অধিকার নেই  \\\n",
      "Label                                                                \n",
      "0.0                                             0.120802             \n",
      "1.0                                             0.000000             \n",
      "2.0                                             0.000000             \n",
      "\n",
      "Tense  শালারা চোর আবার বড়ো বড়ো কথা বলে  এই কাস্টমারগুলো হায়নার চেয়েও লোভী  \\\n",
      "Label                                                                       \n",
      "0.0                           0.120802                           0.096642   \n",
      "1.0                           0.000000                           0.000000   \n",
      "2.0                           0.000000                           0.000000   \n",
      "\n",
      "Tense  এগুলো দেশের জন্য বড় অভিশাপ  \\\n",
      "Label                               \n",
      "0.0                      0.096642   \n",
      "1.0                      0.000000   \n",
      "2.0                      0.000000   \n",
      "\n",
      "Tense  বর্তমানে বাংলাদেশের যতগুলো ই কমার্স সাইট আছে সবগুলোই বাটপার  ...  \\\n",
      "Label                                                               ...   \n",
      "0.0                                             0.096642            ...   \n",
      "1.0                                             0.000000            ...   \n",
      "2.0                                             0.035386            ...   \n",
      "\n",
      "Tense  ১২০ টাকা মজুরি এটা একেবারে অমানবিক মজুরি অবশ্যই বাড়াতে হবে  \\\n",
      "Label                                                               \n",
      "0.0                                             0.000000            \n",
      "1.0                                             0.000000            \n",
      "2.0                                             0.035386            \n",
      "\n",
      "Tense  ২০ টাকাও আছে \\nযাই হোক স্বাধের মধ্যে তো আছে ভাই  \\\n",
      "Label                                                    \n",
      "0.0                                           0.000000   \n",
      "1.0                                           0.000000   \n",
      "2.0                                           0.035386   \n",
      "\n",
      "Tense  ২০ দিন আগে থেকেই কিনে খাচ্ছি ১৮০ টাকা করে So Sad Digital Bangladesh  \\\n",
      "Label                                                                        \n",
      "0.0                                             0.000000                     \n",
      "1.0                                             0.000000                     \n",
      "2.0                                             0.035386                     \n",
      "\n",
      "Tense  ২৪ ঘন্টার জায়গায় বিদ্যুৎ পায় ৬ ঘন্টা তাহলে কি এটা অর্থনেতিক সংকট না এখন আমাদের দেশের এমন অবস্থা সত্য সংবাদ পাওয়া যায় না  \\\n",
      "Label                                                                                                                            \n",
      "0.0                                             0.000000                                                                         \n",
      "1.0                                             0.000000                                                                         \n",
      "2.0                                             0.035386                                                                         \n",
      "\n",
      "Tense  ৫ টাকা কমার পর আসলে কি জনগণের কোন উপকারে আসবে গাড়ী ভাড়া এবং নিত্য প্রয়োজনীয় কোন জিনিসের দাম কি কমবে   \\\n",
      "Label                                                                                                         \n",
      "0.0                                             0.000000                                                      \n",
      "1.0                                             0.000000                                                      \n",
      "2.0                                             0.035386                                                      \n",
      "\n",
      "Tense  ৫০ টাকা বাড়িয়ে ৫ টাকা কমিয়ে শান্ত না দেয়ার কোন মানে হয় না  \\\n",
      "Label                                                              \n",
      "0.0                                             0.000000           \n",
      "1.0                                             0.000000           \n",
      "2.0                                             0.035386           \n",
      "\n",
      "Tense  ৫০ বছরের মধ্যে রিপোর্ট জমা দিতে বলা হউক  \\\n",
      "Label                                            \n",
      "0.0                                   0.000000   \n",
      "1.0                                   0.000000   \n",
      "2.0                                   0.035386   \n",
      "\n",
      "Tense  ৫৩ হাজার কোটি টাকা ভর্তুকি দেন ভালো দেশের জনগণের জন্য করতেছেন কিন্তু তেলের দাম ডিজেলের দাম প্রতি বছরের ১০ টাকা ২০ টাকা বা প্রতি মাসে দুই চার পাঁচ টাকা করে বাড়ালেই তো পারেন তাই বলে কি একবারেই দাম ডাবল করে ফেলবেন নাকি  \\\n",
      "Label                                                                                                                                                                                                                             \n",
      "0.0                                             0.000000                                                                                                                                                                          \n",
      "1.0                                             0.000000                                                                                                                                                                          \n",
      "2.0                                             0.035386                                                                                                                                                                          \n",
      "\n",
      "Tense  ৮৯ টাকার অকটেন এখন ১৩৫ আপার কথায় খালি ভ্যালকি  \\\n",
      "Label                                                  \n",
      "0.0                                         0.000000   \n",
      "1.0                                         0.000000   \n",
      "2.0                                         0.035386   \n",
      "\n",
      "Tense  ‌নিম্ন আ‌য়ের সাধারণ মানুষ‌দের দেখার কেউ নেই নিত‌্যপন‌্যর এরকম আকাশচুম্বী দাম তা‌দের জীব‌নের জন‌্য এক চরম অ‌ভিশাপ ও দূ‌র্ভিক্ষের সমান  \n",
      "Label                                                                                                                                        \n",
      "0.0                                             0.000000                                                                                     \n",
      "1.0                                             0.000000                                                                                     \n",
      "2.0                                             0.035386                                                                                     \n",
      "\n",
      "[3 rows x 7579 columns]\n"
     ]
    }
   ],
   "source": [
    " # label distribution\n",
    "label_distribution = df.groupby('Label')['Tense'].value_counts().unstack(fill_value=0)\n",
    "label_distribution_percent = df.groupby('Label')['Tense'].value_counts(normalize=True).unstack(fill_value=0) * 100\n",
    "\n",
    "print(\"\\nLabel-Specific Data Distribution (Counts):\")\n",
    "print(label_distribution)\n",
    "print(\"\\nLabel-Specific Label Distribution (Percentages):\")\n",
    "print(label_distribution_percent)"
   ]
  },
  {
   "cell_type": "code",
   "execution_count": null,
   "metadata": {},
   "outputs": [],
   "source": []
  }
 ],
 "metadata": {
  "kernelspec": {
   "display_name": ".venv",
   "language": "python",
   "name": "python3"
  },
  "language_info": {
   "codemirror_mode": {
    "name": "ipython",
    "version": 3
   },
   "file_extension": ".py",
   "mimetype": "text/x-python",
   "name": "python",
   "nbconvert_exporter": "python",
   "pygments_lexer": "ipython3",
   "version": "3.11.13"
  }
 },
 "nbformat": 4,
 "nbformat_minor": 2
}
